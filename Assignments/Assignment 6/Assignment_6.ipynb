{
 "cells": [
  {
   "cell_type": "code",
   "execution_count": 35,
   "metadata": {},
   "outputs": [],
   "source": [
    "import numpy as np\n",
    "import numpy.linalg as LA\n",
    "import math as m"
   ]
  },
  {
   "cell_type": "code",
   "execution_count": 36,
   "metadata": {},
   "outputs": [],
   "source": [
    "def read(path):\n",
    "    reval = []\n",
    "    with open(path, encoding='utf8') as f:\n",
    "        for line in f:\n",
    "            if len(line.strip()) == 0:\n",
    "                continue\n",
    "            s = line.strip().split()\n",
    "            vector = [float(v) for v in s]\n",
    "            reval.append(vector)\n",
    "    return np.array(reval)"
   ]
  },
  {
   "cell_type": "code",
   "execution_count": 37,
   "metadata": {},
   "outputs": [],
   "source": [
    "def LeastSquares(X, Y):\n",
    "    XT = X.transpose()\n",
    "    A = np.dot(XT, X)\n",
    "    A = LA.inv(A)\n",
    "    return np.dot(np.dot(A, XT), Y)"
   ]
  },
  {
   "cell_type": "code",
   "execution_count": 38,
   "metadata": {},
   "outputs": [],
   "source": [
    "def RidgeRegression(X, Y, s):\n",
    "    XT = X.transpose()\n",
    "    A = np.dot(XT, X)\n",
    "    B = np.dot((s**2), np.eye(1))\n",
    "    A = A+B\n",
    "    A = LA.inv(A)\n",
    "    return np.dot(np.dot(A, XT), Y)"
   ]
  },
  {
   "cell_type": "code",
   "execution_count": 39,
   "metadata": {},
   "outputs": [],
   "source": [
    "def error(X, Y, C):\n",
    "    return LA.norm(Y-np.dot(X, C), 2)"
   ]
  },
  {
   "cell_type": "code",
   "execution_count": 40,
   "metadata": {},
   "outputs": [],
   "source": [
    "def errorB(X, Y, C):\n",
    "    return LA.norm(Y-np.dot(X, C), 2)"
   ]
  },
  {
   "cell_type": "code",
   "execution_count": 41,
   "metadata": {},
   "outputs": [],
   "source": [
    "def partA(pathX, pathY):\n",
    "    X = read(pathX)\n",
    "    Y = read(pathY)\n",
    "    C = LeastSquares(X, Y)\n",
    "    err = LA.norm(Y-np.dot(X, C), 2)\n",
    "    print(err)\n",
    "\n",
    "    S = [1,5,10,15,20,25,30]\n",
    "    for s in S:\n",
    "        Cs = RidgeRegression(X, Y, s)\n",
    "        err = error(X, Y, Cs)\n",
    "        print('s={a}, error={b}'.format(a=str(s), b=str(err)))"
   ]
  },
  {
   "cell_type": "code",
   "execution_count": 42,
   "metadata": {},
   "outputs": [],
   "source": [
    "def subset(X, Y):\n",
    "    # X1 = X[0:33, :]\n",
    "    # Y1 = Y[0:33]\n",
    "\n",
    "    # X2 = X[66:100, :]\n",
    "    # Y2 = Y[66:100]\n",
    "\n",
    "    # rX1 = X[33:66, :]\n",
    "    # rY1 = Y[33:66]\n",
    "\n",
    "    # X1 = np.vstack((X1, X2))\n",
    "    # Y1 = np.vstack((Y1, Y2))\n",
    "\n",
    "    # X1\n",
    "    # X1 = X[0:66, :]\n",
    "    # Y1 = Y[0:66]\n",
    "\n",
    "    # rX1 = X[66:, :]\n",
    "    # rY1 = Y[66:]\n",
    "\n",
    "    # X2\n",
    "    X1 = X[33:100, :]\n",
    "    Y1 = Y[33:100]\n",
    "\n",
    "    rX1 = X[0:33, :]\n",
    "    rY1 = Y[0:33]\n",
    "\n",
    "    return X1, Y1, rX1, rY1"
   ]
  },
  {
   "cell_type": "code",
   "execution_count": 43,
   "metadata": {},
   "outputs": [],
   "source": [
    "def partButil(X1, Y1, X, Y, S):\n",
    "    Clq = LeastSquares(X1, Y1)\n",
    "    print(\"Least Squares error: \")\n",
    "    print(errorB(X, Y, Clq))\n",
    "    print(\"Ridge Regression Error\")\n",
    "    for s in S:\n",
    "        Cs = RidgeRegression(X1, Y1, s)\n",
    "        err = errorB(X, Y, Cs)\n",
    "        print('s={a}, error={b}'.format(a=str(s), b=str(err)))"
   ]
  },
  {
   "cell_type": "code",
   "execution_count": 64,
   "metadata": {},
   "outputs": [],
   "source": [
    "def partB(pathX, pathY):\n",
    "    X = read(pathX)\n",
    "    Y = read(pathY)\n",
    "\n",
    "    S = [1,5,10,15,20,25,30]\n",
    "    \n",
    "    print(\"X1, Y1\")\n",
    "    X1 = X[0:66, :]\n",
    "    Y1 = Y[0:66]\n",
    "    partButil(X1, Y1, X[66:100, :], Y[66:100], S)\n",
    "    print(\"X2, Y2\")\n",
    "    X2 = X[33:100, :]\n",
    "    Y2 = Y[33:100]\n",
    "    partButil(X2, Y2, X[0:33, :], Y[0:33], S)\n",
    "    print(\"X3, Y3\")\n",
    "    X1 = X[0:33, :]\n",
    "    X2 = X[66:100, :]\n",
    "    Y1 = Y[0:33]\n",
    "    Y2 = Y[66:100]\n",
    "    X3 = np.vstack((X1, X2))\n",
    "    Y3 = np.concatenate((Y1, Y2), axis = None)\n",
    "    partButil(X3, Y3, X[33:66, :], Y[33:66], S)\n",
    "    \n",
    "#     Clq = LeastSquares(X1, Y1)\n",
    "#     print(errorB(X, Y, Clq))\n",
    "#     for s in S:\n",
    "#         Cs = RidgeRegression(X1, Y1, s)\n",
    "#         err = errorB(X, Y, Cs)\n",
    "#         print('s={a}, error={b}'.format(a=str(s), b=str(err)))"
   ]
  },
  {
   "cell_type": "code",
   "execution_count": 61,
   "metadata": {},
   "outputs": [],
   "source": [
    "pathX = \"data/X.dat\"\n",
    "pathY = \"data/Y.dat\""
   ]
  },
  {
   "cell_type": "code",
   "execution_count": 62,
   "metadata": {},
   "outputs": [
    {
     "name": "stdout",
     "output_type": "stream",
     "text": [
      "605.6547050551508\n",
      "s=1, error=605.6567809912042\n",
      "s=5, error=606.9239400213338\n",
      "s=10, error=624.4307810755754\n",
      "s=15, error=687.2821191347833\n",
      "s=20, error=811.3007347182483\n",
      "s=25, error=986.0178516144009\n",
      "s=30, error=1189.2692866675484\n"
     ]
    }
   ],
   "source": [
    "partA(pathX, pathY)"
   ]
  },
  {
   "cell_type": "code",
   "execution_count": 65,
   "metadata": {},
   "outputs": [
    {
     "name": "stdout",
     "output_type": "stream",
     "text": [
      "X1, Y1\n",
      "Least Squares error: \n",
      "483.02361036023234\n",
      "Ridge Regression Error\n",
      "s=1, error=483.547084716974\n",
      "s=5, error=497.48423468426387\n",
      "s=10, error=553.621772491894\n",
      "s=15, error=666.1877161839783\n",
      "s=20, error=824.8669799914192\n",
      "s=25, error=1005.2050411829815\n",
      "s=30, error=1186.362691806687\n",
      "X2, Y2\n",
      "Least Squares error: \n",
      "434.7991605193866\n",
      "Ridge Regression Error\n",
      "s=1, error=434.9318408974084\n",
      "s=5, error=439.86952423361413\n",
      "s=10, error=472.9068031907845\n",
      "s=15, error=561.0519969908466\n",
      "s=20, error=701.3147793287557\n",
      "s=25, error=868.6181714101754\n",
      "s=30, error=1040.1257918125136\n",
      "X3, Y3\n",
      "Least Squares error: \n",
      "2693.01691448644\n",
      "Ridge Regression Error\n",
      "s=1, error=2689.911864482927\n",
      "s=5, error=2642.0964895524503\n",
      "s=10, error=2767.9355424221053\n",
      "s=15, error=3212.2958094631927\n",
      "s=20, error=3893.2599964183273\n",
      "s=25, error=4734.1377807458675\n",
      "s=30, error=5639.027768805147\n"
     ]
    }
   ],
   "source": [
    "partB(pathX, pathY)"
   ]
  },
  {
   "cell_type": "code",
   "execution_count": null,
   "metadata": {},
   "outputs": [],
   "source": []
  }
 ],
 "metadata": {
  "kernelspec": {
   "display_name": "Python 3",
   "language": "python",
   "name": "python3"
  },
  "language_info": {
   "codemirror_mode": {
    "name": "ipython",
    "version": 3
   },
   "file_extension": ".py",
   "mimetype": "text/x-python",
   "name": "python",
   "nbconvert_exporter": "python",
   "pygments_lexer": "ipython3",
   "version": "3.6.8"
  }
 },
 "nbformat": 4,
 "nbformat_minor": 2
}
