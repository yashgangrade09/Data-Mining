{
 "cells": [
  {
   "cell_type": "code",
   "execution_count": 31,
   "metadata": {},
   "outputs": [],
   "source": [
    "from collections import Counter\n",
    "from tqdm import tqdm_notebook as tqdm\n",
    "import pandas as pd\n",
    "import numpy as np\n",
    "import random\n",
    "from scipy.optimize import minimize_scalar"
   ]
  },
  {
   "cell_type": "code",
   "execution_count": 32,
   "metadata": {},
   "outputs": [],
   "source": [
    "def least_square_regression(X, Y):\n",
    "    return np.linalg.inv(X.T @ X) @ X.T @ Y\n",
    "\n",
    "def ridge_regression(X, Y, s):\n",
    "    return np.linalg.inv(X.T @ X + s * s * np.eye(X.shape[1])) @ X.T @ Y\n",
    "\n",
    "def error(X, Y, A):\n",
    "    return np.linalg.norm(Y - X @ A, ord=2, axis=0)\n",
    "\n",
    "def read_data(path):\n",
    "    return np.genfromtxt(path)"
   ]
  },
  {
   "cell_type": "code",
   "execution_count": 33,
   "metadata": {},
   "outputs": [],
   "source": [
    "X = read_data('data/X.dat')\n",
    "Y = read_data('data/Y.dat')\n",
    "M = read_data('data/M.dat')\n",
    "W = read_data('data/W.dat')"
   ]
  },
  {
   "cell_type": "markdown",
   "metadata": {},
   "source": [
    "## Linear Regression"
   ]
  },
  {
   "cell_type": "markdown",
   "metadata": {},
   "source": [
    "### Part 1"
   ]
  },
  {
   "cell_type": "markdown",
   "metadata": {},
   "source": [
    "#### Least Square regression"
   ]
  },
  {
   "cell_type": "code",
   "execution_count": 34,
   "metadata": {},
   "outputs": [
    {
     "data": {
      "text/plain": [
       "605.6547050551507"
      ]
     },
     "execution_count": 34,
     "metadata": {},
     "output_type": "execute_result"
    }
   ],
   "source": [
    "A = least_square_regression(X, Y)\n",
    "error(X, Y, A)"
   ]
  },
  {
   "cell_type": "markdown",
   "metadata": {},
   "source": [
    "#### Ridge regression"
   ]
  },
  {
   "cell_type": "code",
   "execution_count": 35,
   "metadata": {},
   "outputs": [
    {
     "data": {
      "text/plain": [
       "[605.6549053351707,\n",
       " 605.7708191252755,\n",
       " 607.1568353666345,\n",
       " 611.3054178794056,\n",
       " 618.4468556559546,\n",
       " 627.943924249709,\n",
       " 639.1680198915998]"
      ]
     },
     "execution_count": 35,
     "metadata": {},
     "output_type": "execute_result"
    }
   ],
   "source": [
    "As_list = [ridge_regression(X, Y, s) for s in [1, 5, 10, 15, 20, 25, 30]]\n",
    "[error(X, Y, As) for As in As_list]"
   ]
  },
  {
   "cell_type": "markdown",
   "metadata": {},
   "source": [
    "### Part 2"
   ]
  },
  {
   "cell_type": "code",
   "execution_count": 44,
   "metadata": {},
   "outputs": [],
   "source": [
    "def cross_validate_lsq(f, train_indices, test_indices):\n",
    "    X1, Y1 = X[train_indices], Y[train_indices]\n",
    "    X1p, Y1p = X[test_indices], Y[test_indices]\n",
    "    \n",
    "    return error(X1p, Y1p, f(X1, Y1))\n",
    "\n",
    "def average_cross_val_lsq():\n",
    "    errors = []\n",
    "    \n",
    "    train_indices = [x for x in range(0, 66)]\n",
    "    test_indices = [x for x in range(66, 100)]\n",
    "    errors.append(cross_validate_lsq(least_square_regression, train_indices, test_indices))\n",
    "    \n",
    "    train_indices = [x for x in range(33, 100)]\n",
    "    test_indices = [x for x in range(0, 33)]\n",
    "    errors.append(cross_validate_lsq(least_square_regression, train_indices, test_indices))\n",
    "    \n",
    "    train_indices = [x for x in range(0, 100) if (0 <= x < 33 or 66 <= x < 100)]\n",
    "    test_indices = [x for x in range(0, 100) if not(0 <= x < 33 or 66 <= x < 100)]\n",
    "    errors.append(cross_validate_lsq(least_square_regression, train_indices, test_indices))\n",
    "    \n",
    "    return errors\n",
    "\n",
    "def cross_validate_rr(f, train_indices, test_indices, s):\n",
    "    X1, Y1 = X[train_indices], Y[train_indices]\n",
    "    X1p, Y1p = X[test_indices], Y[test_indices]\n",
    "    \n",
    "    return error(X1p, Y1p, f(X1, Y1, s))\n",
    "\n",
    "def average_cross_val_rr(s):\n",
    "    errors = []\n",
    "    \n",
    "    train_indices = [x for x in range(0, 66)]\n",
    "    test_indices = [x for x in range(66, 100)]\n",
    "    print(len(train_indices), len(test_indices))\n",
    "    errors.append(cross_validate_rr(ridge_regression, train_indices, test_indices, s))\n",
    "    \n",
    "    train_indices = [x for x in range(33, 100)]\n",
    "    test_indices = [x for x in range(0, 33)]\n",
    "    print(len(train_indices), len(test_indices))\n",
    "    errors.append(cross_validate_rr(ridge_regression, train_indices, test_indices, s))\n",
    "    \n",
    "    train_indices = [x for x in range(0, 100) if 0 <= x < 33 or 66 <= x < 100]\n",
    "    test_indices = [x for x in range(0, 100) if not(0 <= x < 33 or 66 <= x < 100)]\n",
    "    print(len(train_indices), len(test_indices))\n",
    "    errors.append(cross_validate_rr(ridge_regression, train_indices, test_indices, s))\n",
    "    \n",
    "    return errors"
   ]
  },
  {
   "cell_type": "code",
   "execution_count": 45,
   "metadata": {},
   "outputs": [
    {
     "data": {
      "text/plain": [
       "433.6182341450669"
      ]
     },
     "execution_count": 45,
     "metadata": {},
     "output_type": "execute_result"
    }
   ],
   "source": [
    "np.mean(average_cross_val_lsq())"
   ]
  },
  {
   "cell_type": "code",
   "execution_count": 46,
   "metadata": {},
   "outputs": [
    {
     "name": "stdout",
     "output_type": "stream",
     "text": [
      "[483.02361036023234, 434.7991605193866, 383.03193155558154]\n"
     ]
    }
   ],
   "source": [
    "print(average_cross_val_lsq())"
   ]
  },
  {
   "cell_type": "code",
   "execution_count": 47,
   "metadata": {},
   "outputs": [
    {
     "name": "stdout",
     "output_type": "stream",
     "text": [
      "66 34\n",
      "67 33\n",
      "67 33\n",
      "[482.73158428134064, 434.53223544836396, 382.713469832863]\n",
      "66 34\n",
      "67 33\n",
      "67 33\n",
      "[476.42195303951195, 428.8565214309884, 376.3330906813069]\n",
      "66 34\n",
      "67 33\n",
      "67 33\n",
      "[462.9247449630451, 417.06308302807645, 365.60991991621654]\n",
      "66 34\n",
      "67 33\n",
      "67 33\n",
      "[451.76926446034656, 406.81632135684976, 359.67307263429996]\n",
      "66 34\n",
      "67 33\n",
      "67 33\n",
      "[446.50906360471066, 400.18748920501525, 358.58971957946017]\n",
      "66 34\n",
      "67 33\n",
      "67 33\n",
      "[446.85783507434445, 397.0574035103389, 360.68724072272875]\n",
      "66 34\n",
      "67 33\n",
      "67 33\n",
      "[451.7080854399156, 397.11670654401763, 365.0511050058907]\n"
     ]
    },
    {
     "data": {
      "text/plain": [
       "[None, None, None, None, None, None, None]"
      ]
     },
     "execution_count": 47,
     "metadata": {},
     "output_type": "execute_result"
    }
   ],
   "source": [
    "[print(average_cross_val_rr(s)) for s in [1, 5, 10, 15, 20, 25, 30]]"
   ]
  },
  {
   "cell_type": "code",
   "execution_count": 46,
   "metadata": {
    "collapsed": true
   },
   "outputs": [],
   "source": [
    "x = [(average_cross_val_rr(s)) for s in [1, 5, 10, 15, 20, 25, 30]]"
   ]
  },
  {
   "cell_type": "code",
   "execution_count": 47,
   "metadata": {},
   "outputs": [
    {
     "data": {
      "text/plain": [
       "[[442.81500784223505, 434.53223544836396, 382.713469832863],\n",
       " [436.11905933352364, 428.8565214309884, 376.3330906813069],\n",
       " [420.9290531229988, 417.06308302807645, 365.60991991621654],\n",
       " [406.95907876573335, 406.81632135684976, 359.67307263429996],\n",
       " [398.63779701731, 400.18748920501525, 358.58971957946017],\n",
       " [396.1346837578786, 397.0574035103389, 360.68724072272875],\n",
       " [398.3886572758944, 397.11670654401763, 365.0511050058907]]"
      ]
     },
     "execution_count": 47,
     "metadata": {},
     "output_type": "execute_result"
    }
   ],
   "source": [
    "x"
   ]
  },
  {
   "cell_type": "code",
   "execution_count": 44,
   "metadata": {},
   "outputs": [
    {
     "data": {
      "text/plain": [
       "[420.0202377078206,\n",
       " 413.7695571486063,\n",
       " 401.20068535576394,\n",
       " 391.14949091896096,\n",
       " 385.80500193392845,\n",
       " 384.62644266364873,\n",
       " 386.8521562752676]"
      ]
     },
     "execution_count": 44,
     "metadata": {},
     "output_type": "execute_result"
    }
   ],
   "source": [
    "[np.mean(average_cross_val_rr(s)) for s in [1, 5, 10, 15, 20, 25, 30]]"
   ]
  },
  {
   "cell_type": "markdown",
   "metadata": {},
   "source": [
    "## Orthogonal Matching Pursuit"
   ]
  },
  {
   "cell_type": "code",
   "execution_count": 4,
   "metadata": {},
   "outputs": [
    {
     "data": {
      "text/plain": [
       "42"
      ]
     },
     "execution_count": 4,
     "metadata": {},
     "output_type": "execute_result"
    }
   ],
   "source": [
    "M.shape\n",
    "np.argmax(W @ M)"
   ]
  },
  {
   "cell_type": "code",
   "execution_count": 5,
   "metadata": {},
   "outputs": [],
   "source": [
    "def gamma_func(gamma, r, Xj):\n",
    "    return np.linalg.norm(r - Xj * gamma)"
   ]
  },
  {
   "cell_type": "code",
   "execution_count": 6,
   "metadata": {},
   "outputs": [
    {
     "data": {
      "text/plain": [
       "     fun: 2.2420024725633425e-09\n",
       "    nfev: 20\n",
       "     nit: 16\n",
       " success: True\n",
       "       x: 0.49999999887899876"
      ]
     },
     "execution_count": 6,
     "metadata": {},
     "output_type": "execute_result"
    }
   ],
   "source": [
    "minimize_scalar(gamma_func, args=(1, 2))"
   ]
  },
  {
   "cell_type": "code",
   "execution_count": 57,
   "metadata": {},
   "outputs": [],
   "source": [
    "class OMP:\n",
    "    def __init__(self, t):\n",
    "        self.t = t\n",
    "        self.r = None\n",
    "        self.residuals = []\n",
    "        self.gamma = None\n",
    "        self.column_order = []\n",
    "        \n",
    "    def fit(self, X, y):\n",
    "        self.r = y\n",
    "        self.gamma = np.zeros(X.shape[1])\n",
    "                              \n",
    "        for step_num, i in enumerate(range(self.t)):\n",
    "            # Find column that explains most of the data\n",
    "            j = np.argmax(np.dot(self.r, X))\n",
    "            self.column_order.append(j)\n",
    "            Xj = X[:, j]\n",
    "            \n",
    "            # Find gamma_j by minimizing L2 norm of (r - Xj * gamma_j)\n",
    "#             self.gamma[j] = minimize_scalar(gamma_func, args=(self.r, Xj)).x\n",
    "            self.gamma[j] = 1\n",
    "            \n",
    "            # Compute the residual\n",
    "            self.r = self.r - Xj * self.gamma[j]\n",
    "            print(j, self.r, len(self.r))\n",
    "            self.residuals.append(self.r)      "
   ]
  },
  {
   "cell_type": "code",
   "execution_count": 58,
   "metadata": {},
   "outputs": [],
   "source": [
    "omp = OMP(10)"
   ]
  },
  {
   "cell_type": "code",
   "execution_count": 59,
   "metadata": {},
   "outputs": [],
   "source": [
    "omp.gamma"
   ]
  },
  {
   "cell_type": "code",
   "execution_count": 60,
   "metadata": {},
   "outputs": [
    {
     "ename": "NameError",
     "evalue": "name 'r' is not defined",
     "output_type": "error",
     "traceback": [
      "\u001b[0;31m---------------------------------------------------------------------------\u001b[0m",
      "\u001b[0;31mNameError\u001b[0m                                 Traceback (most recent call last)",
      "\u001b[0;32m<ipython-input-60-4f9a30e7c90c>\u001b[0m in \u001b[0;36m<module>\u001b[0;34m()\u001b[0m\n\u001b[0;32m----> 1\u001b[0;31m \u001b[0momp\u001b[0m\u001b[0;34m.\u001b[0m\u001b[0mfit\u001b[0m\u001b[0;34m(\u001b[0m\u001b[0mM\u001b[0m\u001b[0;34m,\u001b[0m \u001b[0mW\u001b[0m\u001b[0;34m)\u001b[0m\u001b[0;34m\u001b[0m\u001b[0;34m\u001b[0m\u001b[0m\n\u001b[0m",
      "\u001b[0;32m<ipython-input-57-d6aff52cd5f4>\u001b[0m in \u001b[0;36mfit\u001b[0;34m(self, X, y)\u001b[0m\n\u001b[1;32m     23\u001b[0m             \u001b[0;31m# Compute the residual\u001b[0m\u001b[0;34m\u001b[0m\u001b[0;34m\u001b[0m\u001b[0;34m\u001b[0m\u001b[0m\n\u001b[1;32m     24\u001b[0m             \u001b[0mself\u001b[0m\u001b[0;34m.\u001b[0m\u001b[0mr\u001b[0m \u001b[0;34m=\u001b[0m \u001b[0mself\u001b[0m\u001b[0;34m.\u001b[0m\u001b[0mr\u001b[0m \u001b[0;34m-\u001b[0m \u001b[0mXj\u001b[0m \u001b[0;34m*\u001b[0m \u001b[0mself\u001b[0m\u001b[0;34m.\u001b[0m\u001b[0mgamma\u001b[0m\u001b[0;34m[\u001b[0m\u001b[0mj\u001b[0m\u001b[0;34m]\u001b[0m\u001b[0;34m\u001b[0m\u001b[0;34m\u001b[0m\u001b[0m\n\u001b[0;32m---> 25\u001b[0;31m             \u001b[0mprint\u001b[0m\u001b[0;34m(\u001b[0m\u001b[0mj\u001b[0m\u001b[0;34m,\u001b[0m \u001b[0mself\u001b[0m\u001b[0;34m.\u001b[0m\u001b[0mr\u001b[0m\u001b[0;34m,\u001b[0m \u001b[0mlen\u001b[0m\u001b[0;34m(\u001b[0m\u001b[0mr\u001b[0m\u001b[0;34m)\u001b[0m\u001b[0;34m)\u001b[0m\u001b[0;34m\u001b[0m\u001b[0;34m\u001b[0m\u001b[0m\n\u001b[0m\u001b[1;32m     26\u001b[0m             \u001b[0mself\u001b[0m\u001b[0;34m.\u001b[0m\u001b[0mresiduals\u001b[0m\u001b[0;34m.\u001b[0m\u001b[0mappend\u001b[0m\u001b[0;34m(\u001b[0m\u001b[0mself\u001b[0m\u001b[0;34m.\u001b[0m\u001b[0mr\u001b[0m\u001b[0;34m)\u001b[0m\u001b[0;34m\u001b[0m\u001b[0;34m\u001b[0m\u001b[0m\n",
      "\u001b[0;31mNameError\u001b[0m: name 'r' is not defined"
     ]
    }
   ],
   "source": [
    "omp.fit(M, W)"
   ]
  },
  {
   "cell_type": "code",
   "execution_count": 16,
   "metadata": {},
   "outputs": [
    {
     "data": {
      "text/plain": [
       "27.964262908219126"
      ]
     },
     "execution_count": 16,
     "metadata": {},
     "output_type": "execute_result"
    }
   ],
   "source": [
    "np.linalg.norm(M@omp.gamma - W)"
   ]
  },
  {
   "cell_type": "code",
   "execution_count": null,
   "metadata": {
    "collapsed": true
   },
   "outputs": [],
   "source": []
  }
 ],
 "metadata": {
  "kernelspec": {
   "display_name": "Python 3",
   "language": "python",
   "name": "python3"
  },
  "language_info": {
   "codemirror_mode": {
    "name": "ipython",
    "version": 3
   },
   "file_extension": ".py",
   "mimetype": "text/x-python",
   "name": "python",
   "nbconvert_exporter": "python",
   "pygments_lexer": "ipython3",
   "version": "3.6.8"
  },
  "toc": {
   "base_numbering": 1,
   "nav_menu": {},
   "number_sections": false,
   "sideBar": true,
   "skip_h1_title": false,
   "title_cell": "Table of Contents",
   "title_sidebar": "Contents",
   "toc_cell": false,
   "toc_position": {},
   "toc_section_display": true,
   "toc_window_display": false
  }
 },
 "nbformat": 4,
 "nbformat_minor": 2
}
