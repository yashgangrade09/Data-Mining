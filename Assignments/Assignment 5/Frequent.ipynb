{
 "cells": [
  {
   "cell_type": "code",
   "execution_count": 1,
   "metadata": {
    "collapsed": true
   },
   "outputs": [],
   "source": [
    "import math\n",
    "import sys\n",
    "import os\n",
    "os.environ['PYTHONHASHSEED'] = '123'"
   ]
  },
  {
   "cell_type": "code",
   "execution_count": 2,
   "metadata": {
    "collapsed": true
   },
   "outputs": [],
   "source": [
    "def Get_Doc(doc):\n",
    "    file = open(doc, \"r\")\n",
    "    for line in file:\n",
    "        return str(line)\n",
    "\n",
    "def Misra_Gries(streams, k, m, percent):\n",
    "    counters = [0] * (k-1)\n",
    "    common = [\"\"] * (k-1)\n",
    "\n",
    "    for letter in streams:\n",
    "        if (letter in common):\n",
    "            index = common.index(letter)\n",
    "            counters[index] = counters[index] + 1\n",
    "        else:\n",
    "            if 0 in counters:\n",
    "                index = counters.index(0)\n",
    "                common[index] = letter\n",
    "                counters[index] = counters[index] + 1\n",
    "            else:\n",
    "                for i in range(len(counters)):\n",
    "                    counters[i] = counters[i] - 1\n",
    "    print(common, end=\"\")\n",
    "    print(\" \\\\\\\\\")\n",
    "    print(counters, end=\"\")\n",
    "    print(\" \\\\\\\\\")\n",
    "    #Might occur more than 20%\n",
    "    C = m / k\n",
    "    i = 0\n",
    "    for count in counters:\n",
    "        if((count + C) / m * 100 >= percent):\n",
    "            i = i + 1\n",
    "    print(\"How many objects might occur more than \" + str(percent) + \"\\\\% of the time?\\t\" + str(i) + \" \\\\\\\\\")\n",
    "    #Must occur more than 20%\n",
    "    i = 0\n",
    "    for count in counters:\n",
    "        if (count / m * 100 >= percent):\n",
    "            i = i + 1\n",
    "    print(\"How many objects must occur more than \" + str(percent) + \"\\\\% of the time?\\t\" + str(i) + \" \\\\\\\\ \\\\\\\\\")\n",
    "    return"
   ]
  },
  {
   "cell_type": "code",
   "execution_count": 3,
   "metadata": {
    "collapsed": true
   },
   "outputs": [],
   "source": [
    "def Part1A():\n",
    "    S1 = Get_Doc(\"S1.txt\")\n",
    "    print(\"Part 1A \\\\\\\\ \\\\\\\\ \\n\")\n",
    "    print(\"For S1: \\\\\\\\\")\n",
    "    Misra_Gries(S1, 10, len(S1), 20)\n",
    "    S2 = Get_Doc(\"S2.txt\")\n",
    "    print(\"\\nFor S2: \\\\\\\\\")\n",
    "    Misra_Gries(S2, 10, len(S2), 20)\n",
    "    #print(len(S1))\n",
    "    #print(len(S2))\n",
    "    return"
   ]
  },
  {
   "cell_type": "code",
   "execution_count": 4,
   "metadata": {
    "collapsed": true
   },
   "outputs": [],
   "source": [
    "def Count_Min(doc, t, k):\n",
    "    matrix = []\n",
    "    for i in range(t):\n",
    "        l = [0] * k\n",
    "        for j in doc:\n",
    "            hsh = hash(j+str(i)) % k\n",
    "            #print(j + \" is \" + str(hsh))\n",
    "            l[hsh] += 1\n",
    "        matrix.append(l)\n",
    "    return matrix\n",
    "\n",
    "def Parse(matrix, k, m):\n",
    "    c = []\n",
    "    for j in [\"a\", \"b\", \"c\"]:\n",
    "        i = 0\n",
    "        counts = []\n",
    "        for row in matrix:\n",
    "            hsh = hash(j + str(i)) % k\n",
    "            counts.append(row[hsh])\n",
    "            i += 1\n",
    "        count = min(counts)\n",
    "        print(j + \" is \" + str(count))\n",
    "        c.append(count)\n",
    "    p = 0\n",
    "    for i in c:\n",
    "        if i / m * 100 >= 20:\n",
    "            p += 1\n",
    "    print(\"The number of 20% is:\\t\" + str(p))\n",
    "    return\n",
    "\n",
    "def Part1B():\n",
    "    print(\"\\nFor S1: \\\\\\\\\")\n",
    "    matrix = Count_Min(Get_Doc(\"S1.txt\"), 5, 10)\n",
    "    Parse(matrix, 10, 3000000)\n",
    "    print(\"\\nFor S2: \\\\\\\\\")\n",
    "    matrix2 = Count_Min(Get_Doc(\"S2.txt\"), 5, 10)\n",
    "    Parse(matrix2, 10, 4000000)\n",
    "    return"
   ]
  },
  {
   "cell_type": "code",
   "execution_count": 5,
   "metadata": {},
   "outputs": [
    {
     "name": "stdout",
     "output_type": "stream",
     "text": [
      "Part 1A \\\\ \\\\ \n",
      "\n",
      "For S1: \\\\\n",
      "['a', 'c', 'u', 'b', 'm', 'i', 'z', 'g', 'r'] \\\\\n",
      "[355715, 475715, 1, 625715, 1, 1, 1, 1, 0] \\\\\n",
      "How many objects might occur more than 20\\% of the time?\t3 \\\\\n",
      "How many objects must occur more than 20\\% of the time?\t1 \\\\ \\\\\n",
      "\n",
      "For S2: \\\\\n",
      "['p', 'a', 'e', 'x', 'u', 'c', 'b', 'o', 'g'] \\\\\n",
      "[1, 899790, 0, 1, 0, 607161, 406116, 0, 1] \\\\\n",
      "How many objects might occur more than 20\\% of the time?\t3 \\\\\n",
      "How many objects must occur more than 20\\% of the time?\t1 \\\\ \\\\\n",
      "\n",
      "For S1: \\\\\n",
      "a is 510000\n",
      "b is 826759\n",
      "c is 724034\n",
      "The number of 20% is:\t2\n",
      "\n",
      "For S2: \\\\\n",
      "a is 1108483\n",
      "b is 677971\n",
      "c is 942737\n",
      "The number of 20% is:\t2\n"
     ]
    }
   ],
   "source": [
    "if __name__ == \"__main__\":\n",
    "    Part1A()\n",
    "    Part1B()\n",
    "    exit(0)"
   ]
  },
  {
   "cell_type": "code",
   "execution_count": null,
   "metadata": {
    "collapsed": true
   },
   "outputs": [],
   "source": []
  }
 ],
 "metadata": {
  "kernelspec": {
   "display_name": "Python 3",
   "language": "python",
   "name": "python3"
  },
  "language_info": {
   "codemirror_mode": {
    "name": "ipython",
    "version": 3
   },
   "file_extension": ".py",
   "mimetype": "text/x-python",
   "name": "python",
   "nbconvert_exporter": "python",
   "pygments_lexer": "ipython3",
   "version": "3.6.1"
  }
 },
 "nbformat": 4,
 "nbformat_minor": 2
}
