{
 "cells": [
  {
   "cell_type": "code",
   "execution_count": 55,
   "metadata": {},
   "outputs": [],
   "source": [
    "import numpy as np\n",
    "import numpy.linalg as LA\n",
    "from sklearn import preprocessing\n",
    "\n",
    "def read_matrix(path):\n",
    "    with open(path, encoding='utf8') as f:\n",
    "        matrix = []\n",
    "        for line in f:\n",
    "            s = line.strip().split()\n",
    "            value = [float(v) for v in s]\n",
    "            matrix.append(value)\n",
    "    return np.array(matrix)"
   ]
  },
  {
   "cell_type": "code",
   "execution_count": 56,
   "metadata": {},
   "outputs": [],
   "source": [
    "def MatrixPower(M, t, q):\n",
    "    assert t > 1\n",
    "    reval = M.dot(M)\n",
    "    for _ in range(t-2):\n",
    "        reval = reval.dot(M)\n",
    "#     print(reval)\n",
    "    return reval.dot(q)\n",
    "\n",
    "\n",
    "def StatePropagation(M, t, q):\n",
    "    qx = M.dot(q)\n",
    "    for _ in range(t-1):\n",
    "        qx = M.dot(qx)\n",
    "    return qx"
   ]
  },
  {
   "cell_type": "code",
   "execution_count": 57,
   "metadata": {},
   "outputs": [],
   "source": [
    "def RandomWalk(M, i, t0, t):\n",
    "    j = i\n",
    "    for _ in range(t0):\n",
    "        j = walk(M, j)\n",
    "\n",
    "    record = [0] * M.shape[0]\n",
    "\n",
    "    for _ in range(t):\n",
    "        j = walk(M, j)\n",
    "        record[j] += 1\n",
    "\n",
    "    record = np.array(record)\n",
    "    return record/np.sum(record)\n",
    "\n",
    "\n",
    "def walk(M, i):\n",
    "    p = M[:, i]\n",
    "    x = np.array(range(M.shape[0]))\n",
    "    j = np.random.choice(x, p=p)\n",
    "    return j"
   ]
  },
  {
   "cell_type": "code",
   "execution_count": 74,
   "metadata": {},
   "outputs": [],
   "source": [
    "def normalize_rows(x: np.ndarray):\n",
    "    \"\"\"\n",
    "    function that normalizes each row of the matrix x to have unit length.\n",
    "\n",
    "    Args:\n",
    "     ``x``: A numpy matrix of shape (n, m)\n",
    "\n",
    "    Returns:\n",
    "     ``x``: The normalized (by row) numpy matrix.\n",
    "    \"\"\"\n",
    "    return x/np.linalg.norm(x, ord = 1)"
   ]
  },
  {
   "cell_type": "code",
   "execution_count": 103,
   "metadata": {},
   "outputs": [],
   "source": [
    "def EigenAnalysis(M):\n",
    "    W, V = LA.eig(M)\n",
    "    V = V[:, 0]\n",
    "    V = normalize_rows(V)\n",
    "    qstart = V/np.sum(V)\n",
    "    return qstart"
   ]
  },
  {
   "cell_type": "code",
   "execution_count": 104,
   "metadata": {},
   "outputs": [],
   "source": [
    "def A():\n",
    "    path = './data/M.dat'\n",
    "    t = 1024\n",
    "    t0 = 100\n",
    "    q0 = [0] * 10\n",
    "    q0[0] = 1\n",
    "    q0 = np.array(q0)\n",
    "\n",
    "    M = read_matrix(path)\n",
    "\n",
    "    q1 = MatrixPower(M, t, q0)\n",
    "    q2 = StatePropagation(M, t, q0)\n",
    "    q3 = RandomWalk(M, 0, t0, t)\n",
    "    q4 = EigenAnalysis(M)\n",
    "\n",
    "    s = 'Matrix Power:\\t\\t{a}'.format(a=str(q1))\n",
    "    print(s)\n",
    "    s = 'State Propagation:\\t{a}'.format(a=str(q2))\n",
    "    print(s)\n",
    "    s = 'Random Walk: \\t\\t{a}'.format(a=str(q3))\n",
    "    print(s)\n",
    "    s = 'Eigen Analysis:\\t\\t{a}'.format(a=str(q4))\n",
    "    print(s)"
   ]
  },
  {
   "cell_type": "code",
   "execution_count": 117,
   "metadata": {},
   "outputs": [],
   "source": [
    "def B():\n",
    "    path = './data/M.dat'\n",
    "    M = read_matrix(path)\n",
    "    t = 1024\n",
    "    q0 = [0] * 10\n",
    "    q0[0] = 1\n",
    "    answer = MatrixPower(M, t, q0)\n",
    "\n",
    "    q0 = [0.1] * 10\n",
    "    for t in range(2, 2048):\n",
    "#         q1 = MatrixPower(M, t, q0)\n",
    "        q1 = StatePropagation(M, t, q0)\n",
    "        delta = q1-answer\n",
    "        if sum(abs(delta)) < 0.00001:\n",
    "            print(t)\n",
    "#             print(q1)\n",
    "#             print(answer)\n",
    "            break\n",
    "\n",
    "    print('t={a}'.format(a=str(t)))\n",
    "    print('MatrixPower={a}'.format(a=str(q1)))"
   ]
  },
  {
   "cell_type": "code",
   "execution_count": 118,
   "metadata": {},
   "outputs": [
    {
     "name": "stdout",
     "output_type": "stream",
     "text": [
      "[[0.05739691 0.05739691 0.05739691 0.05739691 0.05739691 0.05739691\n",
      "  0.05739691 0.05739691 0.05739691 0.05739691]\n",
      " [0.06696306 0.06696306 0.06696306 0.06696306 0.06696306 0.06696306\n",
      "  0.06696306 0.06696306 0.06696306 0.06696306]\n",
      " [0.08219028 0.08219028 0.08219028 0.08219028 0.08219028 0.08219028\n",
      "  0.08219028 0.08219028 0.08219028 0.08219028]\n",
      " [0.09539943 0.09539943 0.09539943 0.09539943 0.09539943 0.09539943\n",
      "  0.09539943 0.09539943 0.09539943 0.09539943]\n",
      " [0.13392613 0.13392613 0.13392613 0.13392613 0.13392613 0.13392613\n",
      "  0.13392613 0.13392613 0.13392613 0.13392613]\n",
      " [0.09173022 0.09173022 0.09173022 0.09173022 0.09173022 0.09173022\n",
      "  0.09173022 0.09173022 0.09173022 0.09173022]\n",
      " [0.15827633 0.15827633 0.15827633 0.15827633 0.15827633 0.15827633\n",
      "  0.15827633 0.15827633 0.15827633 0.15827633]\n",
      " [0.13392613 0.13392613 0.13392613 0.13392613 0.13392613 0.13392613\n",
      "  0.13392613 0.13392613 0.13392613 0.13392613]\n",
      " [0.10227086 0.10227086 0.10227086 0.10227086 0.10227086 0.10227086\n",
      "  0.10227086 0.10227086 0.10227086 0.10227086]\n",
      " [0.07792065 0.07792065 0.07792065 0.07792065 0.07792065 0.07792065\n",
      "  0.07792065 0.07792065 0.07792065 0.07792065]]\n",
      "Matrix Power:\t\t[0.05739691 0.06696306 0.08219028 0.09539943 0.13392613 0.09173022\n",
      " 0.15827633 0.13392613 0.10227086 0.07792065]\n",
      "State Propagation:\t[0.05739691 0.06696306 0.08219028 0.09539943 0.13392613 0.09173022\n",
      " 0.15827633 0.13392613 0.10227086 0.07792065]\n",
      "Random Walk: \t\t[0.06835938 0.07519531 0.0625     0.07519531 0.11328125 0.07617188\n",
      " 0.171875   0.14746094 0.1171875  0.09277344]\n",
      "Eigen Analysis:\t\t[0.05739691-0.j 0.06696306-0.j 0.08219028-0.j 0.09539943-0.j\n",
      " 0.13392613-0.j 0.09173022-0.j 0.15827633-0.j 0.13392613-0.j\n",
      " 0.10227086-0.j 0.07792065-0.j]\n",
      "\n",
      "\n",
      " Answer for B\n",
      "\n",
      "\n",
      "[[0.05739691 0.05739691 0.05739691 0.05739691 0.05739691 0.05739691\n",
      "  0.05739691 0.05739691 0.05739691 0.05739691]\n",
      " [0.06696306 0.06696306 0.06696306 0.06696306 0.06696306 0.06696306\n",
      "  0.06696306 0.06696306 0.06696306 0.06696306]\n",
      " [0.08219028 0.08219028 0.08219028 0.08219028 0.08219028 0.08219028\n",
      "  0.08219028 0.08219028 0.08219028 0.08219028]\n",
      " [0.09539943 0.09539943 0.09539943 0.09539943 0.09539943 0.09539943\n",
      "  0.09539943 0.09539943 0.09539943 0.09539943]\n",
      " [0.13392613 0.13392613 0.13392613 0.13392613 0.13392613 0.13392613\n",
      "  0.13392613 0.13392613 0.13392613 0.13392613]\n",
      " [0.09173022 0.09173022 0.09173022 0.09173022 0.09173022 0.09173022\n",
      "  0.09173022 0.09173022 0.09173022 0.09173022]\n",
      " [0.15827633 0.15827633 0.15827633 0.15827633 0.15827633 0.15827633\n",
      "  0.15827633 0.15827633 0.15827633 0.15827633]\n",
      " [0.13392613 0.13392613 0.13392613 0.13392613 0.13392613 0.13392613\n",
      "  0.13392613 0.13392613 0.13392613 0.13392613]\n",
      " [0.10227086 0.10227086 0.10227086 0.10227086 0.10227086 0.10227086\n",
      "  0.10227086 0.10227086 0.10227086 0.10227086]\n",
      " [0.07792065 0.07792065 0.07792065 0.07792065 0.07792065 0.07792065\n",
      "  0.07792065 0.07792065 0.07792065 0.07792065]]\n",
      "225\n",
      "t=225\n",
      "MatrixPower=[0.05739706 0.06696276 0.08219038 0.09539938 0.13392605 0.09173028\n",
      " 0.15827346 0.1339287  0.10227284 0.0779191 ]\n"
     ]
    }
   ],
   "source": [
    "if __name__ == '__main__':\n",
    "    A()\n",
    "    print(\"\\n\\n Answer for B\\n\\n\")\n",
    "    B()"
   ]
  },
  {
   "cell_type": "code",
   "execution_count": null,
   "metadata": {},
   "outputs": [],
   "source": []
  },
  {
   "cell_type": "code",
   "execution_count": null,
   "metadata": {},
   "outputs": [],
   "source": []
  }
 ],
 "metadata": {
  "kernelspec": {
   "display_name": "Python 3",
   "language": "python",
   "name": "python3"
  },
  "language_info": {
   "codemirror_mode": {
    "name": "ipython",
    "version": 3
   },
   "file_extension": ".py",
   "mimetype": "text/x-python",
   "name": "python",
   "nbconvert_exporter": "python",
   "pygments_lexer": "ipython3",
   "version": "3.6.8"
  }
 },
 "nbformat": 4,
 "nbformat_minor": 2
}
