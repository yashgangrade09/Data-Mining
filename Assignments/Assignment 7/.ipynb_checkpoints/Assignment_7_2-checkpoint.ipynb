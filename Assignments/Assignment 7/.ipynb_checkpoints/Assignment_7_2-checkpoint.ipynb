{
 "cells": [
  {
   "cell_type": "code",
   "execution_count": 56,
   "metadata": {},
   "outputs": [],
   "source": [
    "import numpy as np\n",
    "import numpy.linalg as LA\n",
    "import matplotlib.pyplot as plt\n",
    "from tqdm import tqdm_notebook as tqdm"
   ]
  },
  {
   "cell_type": "code",
   "execution_count": 57,
   "metadata": {},
   "outputs": [],
   "source": [
    "def diag(S, l):\n",
    "    delta = S[l-1] ** 2\n",
    "    reval = []\n",
    "    for index, v in enumerate(S):\n",
    "        if index < l:\n",
    "            reval.append(np.sqrt(v**2-delta))\n",
    "        else:\n",
    "            reval.append(0)\n",
    "    reval = np.array(reval)\n",
    "    return np.diag(reval)"
   ]
  },
  {
   "cell_type": "code",
   "execution_count": 58,
   "metadata": {},
   "outputs": [],
   "source": [
    "def Error(A, B):\n",
    "    return LA.norm(np.dot(A.transpose(), A)-np.dot(B.transpose(), B), 2)"
   ]
  },
  {
   "cell_type": "code",
   "execution_count": 59,
   "metadata": {},
   "outputs": [],
   "source": [
    "def FD(A, l):\n",
    "    n, d = A.shape\n",
    "    B = np.zeros((2*l, d))\n",
    "\n",
    "    for ai in A:\n",
    "        for index in range(B.shape[0]):\n",
    "            if sum(B[index]) == 0:\n",
    "                break\n",
    "        else:\n",
    "            [U, S, V] = LA.svd(B, full_matrices=False)\n",
    "            Sp = diag(S, l)\n",
    "            B = np.dot(Sp, V)\n",
    "        B[index] = ai\n",
    "    return B"
   ]
  },
  {
   "cell_type": "code",
   "execution_count": 60,
   "metadata": {},
   "outputs": [],
   "source": [
    "def test(A):\n",
    "    [U, S, V] = LA.svd(A, full_matrices=False)\n",
    "    S = np.diag(S)\n",
    "    AA = np.dot(np.dot(U, S), V)\n",
    "    print(A)\n",
    "    print('-'*50)\n",
    "    print(AA)"
   ]
  },
  {
   "cell_type": "code",
   "execution_count": 61,
   "metadata": {},
   "outputs": [],
   "source": [
    "def read(path):\n",
    "    reval = []\n",
    "    with open(path, encoding='utf8') as f:\n",
    "        for line in f:\n",
    "            if len(line.strip()) == 0:\n",
    "                continue\n",
    "            s = line.strip().split()\n",
    "            vector = [float(v) for v in s]\n",
    "            reval.append(vector)\n",
    "    return np.array(reval)"
   ]
  },
  {
   "cell_type": "code",
   "execution_count": 62,
   "metadata": {},
   "outputs": [],
   "source": [
    "def topKSVD(A, k):\n",
    "    U, S, V = np.linalg.svd(A, full_matrices=False)\n",
    "    S = np.diag(S)\n",
    "    Uk, Sk, Vk = U[:, :k], S[:k, :k], V[:k]\n",
    "    Ak = np.dot(Uk, np.dot(Sk, Vk))\n",
    "    return Ak"
   ]
  },
  {
   "cell_type": "code",
   "execution_count": 63,
   "metadata": {},
   "outputs": [],
   "source": [
    "def probA(path):\n",
    "    A = read(path)\n",
    "    Af10 = (LA.norm(A, 'fro') ** 2) / 10\n",
    "    print(Af10)\n",
    "    A2 = topKSVD(A, 2)\n",
    "    # limit = (LA.norm(A, 'fro') ** 2) / 3\n",
    "    Af2_10 = (LA.norm(A-A2, 'fro')**2)/10\n",
    "    print(Af2_10)\n",
    "    # print('limit={a}'.format(a=str(limit)))\n",
    "    for l in tqdm(range(1, 11)):\n",
    "        limit = (LA.norm(A, 'fro') ** 2) / l\n",
    "        print('theoretical bound={a}'.format(a=str(limit)))\n",
    "        B = FD(A, l)\n",
    "        error = Error(A, B)\n",
    "        print('l={a}, error={b}'.format(a=str(l), b=str(error)))\n",
    "        print('-'*10)"
   ]
  },
  {
   "cell_type": "code",
   "execution_count": 64,
   "metadata": {},
   "outputs": [],
   "source": [
    "def RandomProjection(A, l):\n",
    "    n, d = A.shape\n",
    "    S = np.random.normal(size=(l, n))\n",
    "    # S = []\n",
    "    # for x in P:\n",
    "    #     S.append(x/LA.norm(x, 2))\n",
    "    # S = np.array(S)\n",
    "    S = S * (np.sqrt(l)/np.sqrt(n))\n",
    "    return np.dot(S, A)"
   ]
  },
  {
   "cell_type": "code",
   "execution_count": 82,
   "metadata": {},
   "outputs": [],
   "source": [
    "def probB(path):\n",
    "    A = read(path)\n",
    "    lArr = []\n",
    "    errorArr = []\n",
    "    for l in tqdm(range(1, 100)):\n",
    "        lArr.append(l)\n",
    "        error = []\n",
    "        for _ in range(75):\n",
    "            B = RandomProjection(A, l)\n",
    "            error.append(Error(A, B))\n",
    "        error = np.array(error)\n",
    "        e = sum(error) / len(error)\n",
    "#         var = np.var(error)\n",
    "        errorArr.append(e)\n",
    "        print(\"\\n\\n\\n, l = {a}, error = {b} \\n\\n\\n\".format(a=str(l), b=str(e)))\n",
    "        print('l={a}, average error={b}'.format(a=str(l), b=str(e)))\n",
    "    return lArr, errorArr"
   ]
  },
  {
   "cell_type": "code",
   "execution_count": 71,
   "metadata": {
    "scrolled": true
   },
   "outputs": [
    {
     "name": "stdout",
     "output_type": "stream",
     "text": [
      "5091577.321786624\n",
      "691449.069942987\n"
     ]
    },
    {
     "data": {
      "application/vnd.jupyter.widget-view+json": {
       "model_id": "23823c5733fc4581bbefa8c87e0a44b5",
       "version_major": 2,
       "version_minor": 0
      },
      "text/plain": [
       "HBox(children=(IntProgress(value=0, max=10), HTML(value='')))"
      ]
     },
     "metadata": {},
     "output_type": "display_data"
    },
    {
     "name": "stdout",
     "output_type": "stream",
     "text": [
      "theoretical bound=50915773.21786624\n",
      "l=1, error=40504747.665230975\n",
      "----------\n",
      "theoretical bound=25457886.60893312\n",
      "l=2, error=6499977.0603825785\n",
      "----------\n",
      "theoretical bound=16971924.405955415\n",
      "l=3, error=3746744.911214615\n",
      "----------\n",
      "theoretical bound=12728943.30446656\n",
      "l=4, error=2317369.665043749\n",
      "----------\n",
      "theoretical bound=10183154.643573249\n",
      "l=5, error=1492120.3940118318\n",
      "----------\n",
      "theoretical bound=8485962.202977708\n",
      "l=6, error=1049785.482583254\n",
      "----------\n",
      "theoretical bound=7273681.888266606\n",
      "l=7, error=797950.7974367802\n",
      "----------\n",
      "theoretical bound=6364471.65223328\n",
      "l=8, error=517808.7326678679\n",
      "----------\n",
      "theoretical bound=5657308.135318471\n",
      "l=9, error=316702.65557506453\n",
      "----------\n",
      "theoretical bound=5091577.321786624\n",
      "l=10, error=133994.12445462553\n",
      "----------\n"
     ]
    }
   ],
   "source": [
    "path = \"Data/A.dat\"\n",
    "probA(path)"
   ]
  },
  {
   "cell_type": "code",
   "execution_count": 74,
   "metadata": {
    "scrolled": true
   },
   "outputs": [
    {
     "data": {
      "application/vnd.jupyter.widget-view+json": {
       "model_id": "0f43dc1c04c14dce84dc25d08e096772",
       "version_major": 2,
       "version_minor": 0
      },
      "text/plain": [
       "HBox(children=(IntProgress(value=0, max=99), HTML(value='')))"
      ]
     },
     "metadata": {},
     "output_type": "display_data"
    },
    {
     "name": "stdout",
     "output_type": "stream",
     "text": [
      "l=1, average error=40524671.63648826\n",
      "l=2, average error=40506322.99385008\n",
      "l=3, average error=40457902.34597046\n",
      "l=4, average error=40395896.77675524\n",
      "l=5, average error=40320840.82050356\n",
      "l=6, average error=40217568.45095112\n",
      "l=7, average error=40120674.2866704\n",
      "l=8, average error=40013405.32569913\n",
      "l=9, average error=39866810.50893939\n",
      "l=10, average error=39670505.93120328\n",
      "l=11, average error=39552476.336701564\n",
      "l=12, average error=39394147.93678784\n",
      "l=13, average error=39166315.42400913\n",
      "l=14, average error=38931562.75836673\n",
      "l=15, average error=38522271.81772988\n",
      "l=16, average error=38442979.03750121\n",
      "l=17, average error=38192356.508014224\n",
      "l=18, average error=37890593.248558275\n",
      "l=19, average error=37659611.37417836\n",
      "l=20, average error=37242898.0868501\n",
      "l=21, average error=37040737.934341416\n",
      "l=22, average error=36736793.91995437\n",
      "l=23, average error=36147491.71770683\n",
      "l=24, average error=35702690.7445338\n",
      "l=25, average error=35102852.59231318\n",
      "l=26, average error=35182950.48182516\n",
      "l=27, average error=34720983.9795428\n",
      "l=28, average error=34158682.46427443\n",
      "l=29, average error=33683907.63027744\n",
      "l=30, average error=33186903.666626595\n",
      "l=31, average error=32938827.4590739\n",
      "l=32, average error=32121064.081853624\n",
      "l=33, average error=31407242.190363444\n",
      "l=34, average error=31253179.968039934\n",
      "l=35, average error=30694261.297248676\n",
      "l=36, average error=30203872.566924192\n",
      "l=37, average error=29619239.725870598\n",
      "l=38, average error=28430032.5424098\n",
      "l=39, average error=28188253.230201304\n",
      "l=40, average error=27871765.289721563\n",
      "l=41, average error=26749731.11894416\n",
      "l=42, average error=26569209.78444258\n",
      "l=43, average error=25782247.22830992\n",
      "l=44, average error=25261157.77125571\n",
      "l=45, average error=24582840.743220747\n",
      "l=46, average error=23274146.053912614\n",
      "l=47, average error=22502371.56917123\n",
      "l=48, average error=22021718.706979427\n",
      "l=49, average error=21309337.615374632\n",
      "l=50, average error=20068328.204995774\n",
      "l=51, average error=19372960.48983115\n",
      "l=52, average error=18888053.907852553\n",
      "l=53, average error=17712805.62649462\n",
      "l=54, average error=17981874.947703447\n",
      "l=55, average error=16413984.61834258\n",
      "l=56, average error=15643923.983896907\n",
      "l=57, average error=14689181.369207328\n",
      "l=58, average error=13551324.441010691\n",
      "l=59, average error=11558894.018837376\n",
      "l=60, average error=11412042.846980605\n",
      "l=61, average error=10771077.041988859\n",
      "l=62, average error=10065264.96938063\n",
      "l=63, average error=9594597.717515375\n",
      "l=64, average error=8554778.651832454\n",
      "l=65, average error=7639678.347849717\n",
      "l=66, average error=7873928.681373957\n",
      "l=67, average error=7095967.689809183\n",
      "l=68, average error=7251441.864234988\n",
      "l=69, average error=6554773.927144082\n",
      "l=70, average error=6049014.804231739\n",
      "l=71, average error=6542999.63512927\n",
      "l=72, average error=7315613.665548509\n",
      "l=73, average error=6577636.103711823\n",
      "l=74, average error=7306618.803842802\n",
      "l=75, average error=8515221.596229471\n",
      "l=76, average error=8624906.754504774\n",
      "l=77, average error=9568176.165061317\n",
      "l=78, average error=9861278.532011075\n",
      "l=79, average error=11667323.743316557\n",
      "l=80, average error=12089720.36913869\n",
      "l=81, average error=12885525.625930855\n",
      "l=82, average error=14989315.414077993\n",
      "l=83, average error=16440901.451161563\n",
      "l=84, average error=17798899.0601872\n",
      "l=85, average error=19588849.96251322\n",
      "l=86, average error=20950362.14150014\n",
      "l=87, average error=20083857.52359627\n",
      "l=88, average error=24213715.54821295\n",
      "l=89, average error=24139740.00830266\n",
      "l=90, average error=24863421.787680373\n",
      "l=91, average error=26389419.73620261\n",
      "l=92, average error=27938302.609161798\n",
      "l=93, average error=28952956.512895532\n",
      "l=94, average error=32227436.739917863\n",
      "l=95, average error=34092384.37212016\n",
      "l=96, average error=34768516.79743429\n",
      "l=97, average error=35755486.35038802\n",
      "l=98, average error=36806967.18161241\n",
      "l=99, average error=39455370.48216296\n"
     ]
    }
   ],
   "source": [
    "lArr, eArr = probB(path)"
   ]
  },
  {
   "cell_type": "code",
   "execution_count": 80,
   "metadata": {},
   "outputs": [
    {
     "data": {
      "image/png": "[encoded data removed]",
      "text/plain": [
       "<Figure size 432x288 with 1 Axes>"
      ]
     },
     "metadata": {},
     "output_type": "display_data"
    }
   ],
   "source": [
    "plt.plot(lArr, eArr)\n",
    "plt.xlabel(\"L Value\")\n",
    "plt.ylabel(\"Error\")\n",
    "plt.title(\"Error vs L\")\n",
    "plt.show()"
   ]
  },
  {
   "cell_type": "code",
   "execution_count": null,
   "metadata": {
    "scrolled": true
   },
   "outputs": [
    {
     "data": {
      "application/vnd.jupyter.widget-view+json": {
       "model_id": "1fb09c402b034f2fa73ab7853447822f",
       "version_major": 2,
       "version_minor": 0
      },
      "text/plain": [
       "HBox(children=(IntProgress(value=0, max=99), HTML(value='')))"
      ]
     },
     "metadata": {},
     "output_type": "display_data"
    },
    {
     "name": "stdout",
     "output_type": "stream",
     "text": [
      "l=1, average error=40524485.80026914\n",
      "l=2, average error=40500206.09439784\n",
      "l=3, average error=40462226.275567934\n",
      "l=4, average error=40400268.87267656\n",
      "l=5, average error=40328898.256679766\n",
      "l=6, average error=40233219.89488212\n",
      "l=7, average error=40137324.279705875\n",
      "l=8, average error=40020795.15766844\n",
      "l=9, average error=39878205.31131502\n",
      "l=10, average error=39702920.197392985\n",
      "l=11, average error=39544199.87351885\n",
      "l=12, average error=39344380.509956464\n",
      "l=13, average error=39131447.38835598\n",
      "l=14, average error=38947909.46232597\n",
      "l=15, average error=38734909.08931391\n",
      "l=16, average error=38426357.521015264\n",
      "l=17, average error=38211537.716326006\n",
      "l=18, average error=37913304.54012494\n",
      "l=19, average error=37655038.34565786\n",
      "l=20, average error=37275979.90688642\n",
      "l=21, average error=36920414.573946625\n",
      "l=22, average error=36668865.05911025\n",
      "l=23, average error=36239732.89107903\n",
      "l=24, average error=35904587.805757985\n",
      "l=25, average error=35433549.34288451\n",
      "l=26, average error=35062333.66711339\n",
      "l=27, average error=34668537.42954463\n",
      "l=28, average error=34242054.533761375\n",
      "l=29, average error=33674702.26026916\n",
      "l=30, average error=33250028.219304025\n",
      "l=31, average error=32846714.213125855\n",
      "l=32, average error=32276208.7166931\n",
      "l=33, average error=31801498.811496917\n",
      "l=34, average error=31160746.101466462\n",
      "l=35, average error=30738069.005843077\n",
      "l=36, average error=29994577.0715198\n",
      "l=37, average error=29447482.242911275\n",
      "l=38, average error=28954041.99367894\n",
      "l=39, average error=28199329.168855306\n",
      "l=40, average error=27551137.32442192\n",
      "l=41, average error=26575075.553016238\n",
      "l=42, average error=26217812.367647603\n",
      "l=43, average error=25906634.231266927\n",
      "l=44, average error=24755288.0033937\n",
      "l=45, average error=24052223.21474253\n",
      "l=46, average error=23325330.014078505\n",
      "l=47, average error=22730915.385957446\n",
      "l=48, average error=21791023.075675115\n",
      "l=49, average error=21453345.761828214\n",
      "l=50, average error=20356351.71314541\n",
      "l=51, average error=19522380.085195433\n",
      "l=52, average error=18761460.307250198\n",
      "l=53, average error=17918229.309542213\n",
      "l=54, average error=16892067.90742435\n",
      "l=55, average error=16318458.71057386\n",
      "l=56, average error=15167029.835513096\n",
      "l=57, average error=14504753.29349898\n",
      "l=58, average error=13791908.839754827\n",
      "l=59, average error=13033415.887738882\n",
      "l=60, average error=12146523.006187111\n",
      "l=61, average error=11273885.139813794\n",
      "l=62, average error=9601726.168275282\n",
      "l=63, average error=9285776.47203855\n",
      "l=64, average error=8865547.054732457\n",
      "l=65, average error=8383874.995820359\n",
      "l=66, average error=7533859.827879202\n",
      "l=67, average error=7122887.602932663\n",
      "l=68, average error=7169362.803309203\n",
      "l=69, average error=6578553.121230161\n",
      "l=70, average error=6471642.471425959\n",
      "l=71, average error=6524974.670550268\n",
      "l=72, average error=6617574.643734181\n",
      "l=73, average error=6987984.17795875\n",
      "l=74, average error=7178343.332062045\n",
      "l=75, average error=8286805.1913739\n",
      "l=76, average error=9001870.174482455\n",
      "l=77, average error=9940169.599140856\n",
      "l=78, average error=10976691.434178032\n",
      "l=79, average error=11599798.04585184\n",
      "l=80, average error=12567496.695118736\n",
      "l=81, average error=14698764.50940593\n",
      "l=82, average error=14913953.28813746\n",
      "l=83, average error=16140933.142474081\n",
      "l=84, average error=17443419.65102182\n",
      "l=85, average error=19005220.99026537\n",
      "l=86, average error=20091423.642483953\n",
      "l=87, average error=21247271.507497318\n"
     ]
    }
   ],
   "source": [
    "lArr1, eArr1 = probB(path)"
   ]
  },
  {
   "cell_type": "code",
   "execution_count": null,
   "metadata": {},
   "outputs": [],
   "source": [
    "plt.plot(lArr1, eArr1)\n",
    "plt.xlabel(\"L Value\")\n",
    "plt.ylabel(\"Error\")\n",
    "plt.title(\"Error vs L\")\n",
    "plt.show()"
   ]
  },
  {
   "cell_type": "code",
   "execution_count": null,
   "metadata": {},
   "outputs": [],
   "source": []
  }
 ],
 "metadata": {
  "kernelspec": {
   "display_name": "Python 3",
   "language": "python",
   "name": "python3"
  },
  "language_info": {
   "codemirror_mode": {
    "name": "ipython",
    "version": 3
   },
   "file_extension": ".py",
   "mimetype": "text/x-python",
   "name": "python",
   "nbconvert_exporter": "python",
   "pygments_lexer": "ipython3",
   "version": "3.6.8"
  }
 },
 "nbformat": 4,
 "nbformat_minor": 2
}
