{
 "cells": [
  {
   "cell_type": "code",
   "execution_count": 2,
   "metadata": {},
   "outputs": [],
   "source": [
    "import numpy as np\n",
    "import numpy.linalg as LA\n",
    "import matplotlib.pyplot as plt"
   ]
  },
  {
   "cell_type": "code",
   "execution_count": 3,
   "metadata": {},
   "outputs": [],
   "source": [
    "def read(path):\n",
    "    reval = []\n",
    "    with open(path, encoding='utf8') as f:\n",
    "        for line in f:\n",
    "            if len(line.strip()) == 0:\n",
    "                continue\n",
    "            s = line.strip().split()\n",
    "            vector = [float(v) for v in s]\n",
    "            reval.append(vector)\n",
    "    return np.array(reval)"
   ]
  },
  {
   "cell_type": "code",
   "execution_count": 4,
   "metadata": {},
   "outputs": [],
   "source": [
    "def topKSVD(A, k):\n",
    "    U, S, V = np.linalg.svd(A, full_matrices=False)\n",
    "    S = np.diag(S)\n",
    "    return U[:, :k], S[:k, :k], V[:k]"
   ]
  },
  {
   "cell_type": "code",
   "execution_count": 5,
   "metadata": {},
   "outputs": [],
   "source": [
    "def ProbA(path):\n",
    "    A = read(path)\n",
    "    for k in range(1, 11):\n",
    "        Uk, Sk, Vk = topKSVD(A, k)\n",
    "        Ak = np.dot(Uk, np.dot(Sk, Vk))\n",
    "        delta = A-Ak\n",
    "        print(LA.norm(delta, 2))"
   ]
  },
  {
   "cell_type": "code",
   "execution_count": 9,
   "metadata": {},
   "outputs": [],
   "source": [
    "def plot(X):\n",
    "    x = X[:, 0]\n",
    "    y = X[:, 1]\n",
    "    plt.scatter(x, y)\n",
    "    plt.show()"
   ]
  },
  {
   "cell_type": "code",
   "execution_count": 10,
   "metadata": {},
   "outputs": [],
   "source": [
    "def ProbB(path):\n",
    "    A = read(path)\n",
    "    val = []\n",
    "    for k in range(1, 31):\n",
    "        Uk, Sk, Vk = topKSVD(A, k)\n",
    "        Ak = np.dot(Uk, np.dot(Sk, Vk))\n",
    "        delta = A-Ak\n",
    "        val.append(LA.norm(delta, 2))\n",
    "\n",
    "    valA = LA.norm(A, 2) * 0.1\n",
    "    print(valA)\n",
    "    for index, v in enumerate(val):\n",
    "        if v < valA:\n",
    "            print(index+1)\n",
    "    print(val)\n",
    "\n",
    "\n",
    "def ProbC(path):\n",
    "    A = read(path)\n",
    "    U2, S2, V2 = topKSVD(A, 2)\n",
    "\n",
    "    X = np.dot(U2, S2)\n",
    "    plot(X)"
   ]
  },
  {
   "cell_type": "code",
   "execution_count": 11,
   "metadata": {},
   "outputs": [
    {
     "name": "stdout",
     "output_type": "stream",
     "text": [
      "1862.600132013878\n",
      "1525.7067069200198\n",
      "1171.8595134560292\n",
      "925.121164757476\n",
      "827.8121130173241\n",
      "815.2253833442244\n",
      "639.6119839633453\n",
      "526.8578361869165\n",
      "327.03973462773433\n",
      "227.25204791904363\n",
      "636.6474948247128\n",
      "8\n",
      "9\n",
      "10\n",
      "11\n",
      "12\n",
      "13\n",
      "14\n",
      "15\n",
      "16\n",
      "17\n",
      "18\n",
      "19\n",
      "20\n",
      "21\n",
      "22\n",
      "23\n",
      "24\n",
      "25\n",
      "26\n",
      "27\n",
      "28\n",
      "29\n",
      "30\n",
      "[1862.600132013878, 1525.7067069200198, 1171.8595134560292, 925.121164757476, 827.8121130173241, 815.2253833442244, 639.6119839633453, 526.8578361869165, 327.03973462773433, 227.25204791904363, 203.52977500226368, 167.26020009242117, 129.88556353280364, 107.32304619948184, 102.08610723074888, 86.17917152973025, 70.51853358123323, 62.50202356539912, 62.312409205555966, 61.283101862073906, 60.60596213949831, 59.70740277096107, 59.44363174329409, 46.52556263854855, 41.61223903703464, 41.26343388045017, 41.252366209454806, 41.11184061971784, 40.68187493366068, 40.55782558687226]\n"
     ]
    },
    {
     "data": {
      "image/png": "[encoded data removed]",
      "text/plain": [
       "<Figure size 432x288 with 1 Axes>"
      ]
     },
     "metadata": {},
     "output_type": "display_data"
    }
   ],
   "source": [
    "path = 'Data/A.dat'\n",
    "ProbA(path)\n",
    "ProbB(path)\n",
    "ProbC(path)"
   ]
  },
  {
   "cell_type": "code",
   "execution_count": null,
   "metadata": {},
   "outputs": [],
   "source": []
  }
 ],
 "metadata": {
  "kernelspec": {
   "display_name": "Python 3",
   "language": "python",
   "name": "python3"
  },
  "language_info": {
   "codemirror_mode": {
    "name": "ipython",
    "version": 3
   },
   "file_extension": ".py",
   "mimetype": "text/x-python",
   "name": "python",
   "nbconvert_exporter": "python",
   "pygments_lexer": "ipython3",
   "version": "3.6.8"
  }
 },
 "nbformat": 4,
 "nbformat_minor": 2
}
