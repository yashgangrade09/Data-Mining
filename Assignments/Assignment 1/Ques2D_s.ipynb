{
 "cells": [
  {
   "cell_type": "code",
   "execution_count": 18,
   "metadata": {
    "collapsed": true
   },
   "outputs": [],
   "source": [
    "import numpy as np\n",
    "from numpy import random\n",
    "import pandas as pd\n",
    "import matplotlib.pyplot as plt\n",
    "import time\n",
    "from tqdm import tqdm_notebook as tqdm"
   ]
  },
  {
   "cell_type": "code",
   "execution_count": 25,
   "metadata": {},
   "outputs": [
    {
     "name": "stdout",
     "output_type": "stream",
     "text": [
      "Wall time: 6.98 ms\n"
     ]
    }
   ],
   "source": [
    "%%time\n",
    "n = 300\n",
    "def getK(n):\n",
    "    count = 0\n",
    "    s = set()\n",
    "    while(True):\n",
    "        x = np.random.randint(0, n)\n",
    "        s.add(x)\n",
    "        count += 1\n",
    "        if len(s) >= n:\n",
    "            return count\n",
    "getK(n)"
   ]
  },
  {
   "cell_type": "code",
   "execution_count": 27,
   "metadata": {},
   "outputs": [
    {
     "data": {
      "image/png": "[encoded data removed]",
      "text/plain": [
       "<matplotlib.figure.Figure at 0x219a5366470>"
      ]
     },
     "metadata": {},
     "output_type": "display_data"
    },
    {
     "name": "stdout",
     "output_type": "stream",
     "text": [
      "Wall time: 1.79 s\n"
     ]
    }
   ],
   "source": [
    "%%time\n",
    "m = 400\n",
    "\n",
    "count = []\n",
    "count_trials = []\n",
    "cumulative = [0 for i in range(m)]\n",
    "fraction = [0 for i in range(m)]\n",
    "\n",
    "for i in range(m):\n",
    "    k = getK(n)\n",
    "    count_trials.append(k)\n",
    "    count.append(1)\n",
    "single_end_time = time.time()\n",
    "\n",
    "d = {'k': count_trials, 'count': count, \n",
    "     'cumulative': cumulative, 'Fraction': fraction}\n",
    "df = pd.DataFrame(data = d)\n",
    "df2 = df.sort_values(by = ['k'])\n",
    "#df.groupby(by = ['k'])\n",
    "np_df = df2.as_matrix()\n",
    "np_df = np_df.astype(float)\n",
    "\n",
    "for ind, rows in enumerate(np_df):\n",
    "    if ind != 0:\n",
    "        rows[2] = rows[1] + np_df[ind-1][2]\n",
    "        rows[0] = float(rows[2]) / float(m)\n",
    "    else:\n",
    "        rows[2] = 1\n",
    "        rows[0] = float(rows[2]) / float(m)\n",
    "\n",
    "x = np_df[:,-1] #k\n",
    "y = np_df[:, 0] #Cumulative Distribution\n",
    "\n",
    "plt.plot(x, y)\n",
    "plt.show()"
   ]
  },
  {
   "cell_type": "code",
   "execution_count": 28,
   "metadata": {},
   "outputs": [
    {
     "name": "stdout",
     "output_type": "stream",
     "text": [
      "The expected number of k is 1862.065\n"
     ]
    }
   ],
   "source": [
    "ksum = df2.sum()['k']\n",
    "estimate = ksum /float(m)\n",
    "    \n",
    "print(\n",
    "    'The expected number of k is {}'\n",
    "      .format(estimate))"
   ]
  },
  {
   "cell_type": "code",
   "execution_count": 29,
   "metadata": {},
   "outputs": [
    {
     "data": {
      "application/vnd.jupyter.widget-view+json": {
       "model_id": "0c345d17df704207bc34c855396de9d8"
      }
     },
     "metadata": {},
     "output_type": "display_data"
    },
    {
     "data": {
      "application/vnd.jupyter.widget-view+json": {
       "model_id": "fc443b59d57d43e49fa67648796cbf3d"
      }
     },
     "metadata": {},
     "output_type": "display_data"
    },
    {
     "data": {
      "application/vnd.jupyter.widget-view+json": {
       "model_id": "cffe2289a706402aa074c18d7d6dc025"
      }
     },
     "metadata": {},
     "output_type": "display_data"
    },
    {
     "data": {
      "application/vnd.jupyter.widget-view+json": {
       "model_id": "2bb6a3e46b0147b7a205db867b94305a"
      }
     },
     "metadata": {},
     "output_type": "display_data"
    },
    {
     "data": {
      "application/vnd.jupyter.widget-view+json": {
       "model_id": "ae8990d405db41ada25353fc887de405"
      }
     },
     "metadata": {},
     "output_type": "display_data"
    },
    {
     "name": "stdout",
     "output_type": "stream",
     "text": [
      "\n"
     ]
    }
   ],
   "source": [
    "N = [500, 1000, 5000, 10000, 20000]\n",
    "M = [400, 1000, 2500, 5000]\n",
    "def getTime(N, m):\n",
    "    times = []\n",
    "    for n in tqdm(N):\n",
    "        start_time = time.time()\n",
    "        for i in range(m):\n",
    "            k = getK(n)\n",
    "        time_taken = time.time() - start_time        \n",
    "        times.append(time_taken)\n",
    "    return times\n",
    "\n",
    "delay = []\n",
    "    \n",
    "for m in tqdm(M):\n",
    "    d1 = getTime(N,m)\n",
    "    delay.append(d1)"
   ]
  },
  {
   "cell_type": "code",
   "execution_count": 31,
   "metadata": {},
   "outputs": [
    {
     "data": {
      "image/png": "[encoded data removed]",
      "text/plain": [
       "<matplotlib.figure.Figure at 0x219a5080748>"
      ]
     },
     "metadata": {},
     "output_type": "display_data"
    }
   ],
   "source": [
    "plt.plot(N,  delay[0], label='m={}'.format(M[0]))\n",
    "plt.plot(N,  delay[1], label='m={}'.format(M[1]))\n",
    "plt.plot(N,  delay[2], label='m={}'.format(M[2]))\n",
    "plt.plot(N,  delay[3], label='m={}'.format(M[3]))\n",
    "plt.xticks = N\n",
    "plt.legend()\n",
    "plt.grid()\n",
    "plt.ylabel(\"Run time\", fontsize = 10)\n",
    "plt.xlabel(\"n\", fontsize = 10)\n",
    "plt.show()"
   ]
  },
  {
   "cell_type": "code",
   "execution_count": null,
   "metadata": {
    "collapsed": true
   },
   "outputs": [],
   "source": []
  }
 ],
 "metadata": {
  "kernelspec": {
   "display_name": "Python 3",
   "language": "python",
   "name": "python3"
  },
  "language_info": {
   "codemirror_mode": {
    "name": "ipython",
    "version": 3
   },
   "file_extension": ".py",
   "mimetype": "text/x-python",
   "name": "python",
   "nbconvert_exporter": "python",
   "pygments_lexer": "ipython3",
   "version": "3.6.1"
  }
 },
 "nbformat": 4,
 "nbformat_minor": 2
}
