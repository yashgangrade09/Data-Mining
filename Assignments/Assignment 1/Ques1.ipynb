{
 "cells": [
  {
   "cell_type": "code",
   "execution_count": 1,
   "metadata": {
    "collapsed": true
   },
   "outputs": [],
   "source": [
    "import random\n",
    "import time\n",
    "import matplotlib.pyplot as plt"
   ]
  },
  {
   "cell_type": "code",
   "execution_count": 2,
   "metadata": {
    "collapsed": true
   },
   "outputs": [],
   "source": [
    "def partA(n):\n",
    "    counter = 0\n",
    "    tempSet = set()\n",
    "    \n",
    "    while True:\n",
    "        r = random.randint(1, n)\n",
    "        counter = counter + 1\n",
    "        if r in tempSet:\n",
    "            return counter\n",
    "        tempSet.add(r)"
   ]
  },
  {
   "cell_type": "code",
   "execution_count": 3,
   "metadata": {
    "collapsed": true
   },
   "outputs": [],
   "source": [
    "def partB(m, n):\n",
    "    result = [partA(n) for i in range(m)]\n",
    "    result = sorted(result)\n",
    "    return result"
   ]
  },
  {
   "cell_type": "code",
   "execution_count": 4,
   "metadata": {
    "collapsed": true
   },
   "outputs": [],
   "source": [
    "def density(result):\n",
    "    unique = list(set(result))\n",
    "    unique = sorted(unique)\n",
    "    y = []\n",
    "    for x in unique:\n",
    "        count = len([i for i in result if i <= x])\n",
    "        y.append(count/len(result))\n",
    "    return unique, y"
   ]
  },
  {
   "cell_type": "code",
   "execution_count": 8,
   "metadata": {
    "collapsed": true
   },
   "outputs": [],
   "source": [
    "def plot(x, y):\n",
    "    plt.plot(x, y)\n",
    "    plt.xlabel('k - Number of trials required', fontsize=10)\n",
    "    plt.ylabel('Probability of Collision', fontsize=10)\n",
    "    plt.grid()\n",
    "    plt.show()"
   ]
  },
  {
   "cell_type": "code",
   "execution_count": 9,
   "metadata": {
    "collapsed": true
   },
   "outputs": [],
   "source": [
    "def QD(m):\n",
    "    x = [i for i in range(5000, 1000001, 1000)]\n",
    "    y = []\n",
    "    for n in x:\n",
    "        t = time.clock()\n",
    "        partB(m, n)\n",
    "        y.append(time.clock()-t)\n",
    "    return x, y\n",
    "\n",
    "\n",
    "def write(path, x, y):\n",
    "    with open(path, 'w', encoding='utf8') as f:\n",
    "        for a, b in zip(x, y):\n",
    "            s = ' '.join([str(a), str(b)])\n",
    "            f.write(s+'\\n')\n",
    "\n",
    "\n",
    "def read(path):\n",
    "    x = []\n",
    "    y = []\n",
    "    with open(path, encoding='utf8') as f:\n",
    "        for line in f:\n",
    "            s = line.strip().split()\n",
    "            x.append(float(s[0]))\n",
    "            y.append(float(s[1]))\n",
    "    return x, y"
   ]
  },
  {
   "cell_type": "code",
   "execution_count": 11,
   "metadata": {},
   "outputs": [
    {
     "name": "stdout",
     "output_type": "stream",
     "text": [
      "75\n"
     ]
    },
    {
     "data": {
      "image/png": "[encoded data removed]",
      "text/plain": [
       "<matplotlib.figure.Figure at 0x1a6be066748>"
      ]
     },
     "metadata": {},
     "output_type": "display_data"
    },
    {
     "name": "stdout",
     "output_type": "stream",
     "text": [
      "86.26333333333334\n"
     ]
    }
   ],
   "source": [
    "if __name__ == '__main__':\n",
    "    n = 5000\n",
    "    m = 300\n",
    "    print(partA(5000))\n",
    "    result = partB(m, n)\n",
    "    # run part b\n",
    "    x, y = density(result)\n",
    "    plot(x, y)\n",
    "    t = time.clock()\n",
    "    result = partB(m, n)\n",
    "#     print(time.clock()-t)\n",
    "    \n",
    "    #run part c\n",
    "    result = partB(m, n)\n",
    "    print(sum(result)/len(result))\n",
    "    # the empirical expected number is 89.3\n",
    "       "
   ]
  },
  {
   "cell_type": "code",
   "execution_count": 30,
   "metadata": {},
   "outputs": [
    {
     "data": {
      "image/png": "[encoded data removed]",
      "text/plain": [
       "<matplotlib.figure.Figure at 0x1c846b16748>"
      ]
     },
     "metadata": {},
     "output_type": "display_data"
    }
   ],
   "source": [
    "    x, y1 = QD(300)\n",
    "#     write('300.txt', x, y)\n",
    "\n",
    "#     x, y2 = QD(5000)\n",
    "#     write('5000.txt', x, y)\n",
    "    \n",
    "#     x, y3 = QD(7000)\n",
    "#     write('7000.txt', x, y)\n",
    "\n",
    "#     x, y4 = QD(10000)\n",
    "#     write('10000.txt', x, y)\n",
    "\n",
    "#     x, y = read('10000.txt')\n",
    "    plt.plot(x, y1, 'r')\n",
    "#     plt.plot(x, y2, 'b')\n",
    "#     plt.plot(x, y3, 'g')\n",
    "#     plt.plot(x, y4, 'y')\n",
    "    plt.show()"
   ]
  },
  {
   "cell_type": "code",
   "execution_count": null,
   "metadata": {
    "collapsed": true
   },
   "outputs": [],
   "source": []
  }
 ],
 "metadata": {
  "kernelspec": {
   "display_name": "Python 3",
   "language": "python",
   "name": "python3"
  },
  "language_info": {
   "codemirror_mode": {
    "name": "ipython",
    "version": 3
   },
   "file_extension": ".py",
   "mimetype": "text/x-python",
   "name": "python",
   "nbconvert_exporter": "python",
   "pygments_lexer": "ipython3",
   "version": "3.6.1"
  }
 },
 "nbformat": 4,
 "nbformat_minor": 2
}
