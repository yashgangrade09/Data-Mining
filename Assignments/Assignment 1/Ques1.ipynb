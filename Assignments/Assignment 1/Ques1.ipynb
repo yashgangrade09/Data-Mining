{
 "cells": [
  {
   "cell_type": "code",
   "execution_count": 23,
   "metadata": {
    "collapsed": true
   },
   "outputs": [],
   "source": [
    "import random\n",
    "import time\n",
    "import matplotlib.pyplot as plt"
   ]
  },
  {
   "cell_type": "code",
   "execution_count": 24,
   "metadata": {
    "collapsed": true
   },
   "outputs": [],
   "source": [
    "def partA(n):\n",
    "    counter = 0\n",
    "    tempSet = set()\n",
    "    \n",
    "    while True:\n",
    "        r = random.randint(1, n)\n",
    "        counter = counter + 1\n",
    "        if r in tempSet:\n",
    "            return counter\n",
    "        tempSet.add(r)"
   ]
  },
  {
   "cell_type": "code",
   "execution_count": 25,
   "metadata": {
    "collapsed": true
   },
   "outputs": [],
   "source": [
    "def partB(m, n):\n",
    "    result = [partA(n) for i in range(m)]\n",
    "    result = sorted(result)\n",
    "    return result"
   ]
  },
  {
   "cell_type": "code",
   "execution_count": 26,
   "metadata": {
    "collapsed": true
   },
   "outputs": [],
   "source": [
    "def density(result):\n",
    "    unique = list(set(result))\n",
    "    unique = sorted(unique)\n",
    "    y = []\n",
    "    for x in unique:\n",
    "        count = len([i for i in result if i <= x])\n",
    "        y.append(count/len(result))\n",
    "    return unique, y"
   ]
  },
  {
   "cell_type": "code",
   "execution_count": 27,
   "metadata": {
    "collapsed": true
   },
   "outputs": [],
   "source": [
    "def plot(x, y):\n",
    "    plt.plot(x, y)\n",
    "    plt.xlabel('k - Number of trials required', fontsize=10)\n",
    "    plt.ylabel('Probability of Collision', fontsize=10)\n",
    "    plt.show()"
   ]
  },
  {
   "cell_type": "code",
   "execution_count": 28,
   "metadata": {
    "collapsed": true
   },
   "outputs": [],
   "source": [
    "def QD(m):\n",
    "    x = [i for i in range(5000, 1000001, 1000)]\n",
    "    y = []\n",
    "    for n in x:\n",
    "        t = time.clock()\n",
    "        partB(m, n)\n",
    "        y.append(time.clock()-t)\n",
    "    return x, y\n",
    "\n",
    "\n",
    "def write(path, x, y):\n",
    "    with open(path, 'w', encoding='utf8') as f:\n",
    "        for a, b in zip(x, y):\n",
    "            s = ' '.join([str(a), str(b)])\n",
    "            f.write(s+'\\n')\n",
    "\n",
    "\n",
    "def read(path):\n",
    "    x = []\n",
    "    y = []\n",
    "    with open(path, encoding='utf8') as f:\n",
    "        for line in f:\n",
    "            s = line.strip().split()\n",
    "            x.append(float(s[0]))\n",
    "            y.append(float(s[1]))\n",
    "    return x, y"
   ]
  },
  {
   "cell_type": "code",
   "execution_count": 29,
   "metadata": {},
   "outputs": [
    {
     "name": "stdout",
     "output_type": "stream",
     "text": [
      "142\n"
     ]
    },
    {
     "data": {
      "image/png": "[encoded data removed]",
      "text/plain": [
       "<matplotlib.figure.Figure at 0x1c846c6ba90>"
      ]
     },
     "metadata": {},
     "output_type": "display_data"
    },
    {
     "name": "stdout",
     "output_type": "stream",
     "text": [
      "0.1175345281335467\n",
      "[4, 7, 7, 14, 17, 17, 17, 18, 19, 20, 20, 21, 21, 23, 23, 23, 25, 25, 26, 26, 27, 28, 28, 30, 31, 32, 32, 33, 33, 36, 36, 36, 37, 38, 38, 38, 38, 38, 39, 39, 40, 40, 40, 40, 40, 41, 41, 42, 42, 42, 42, 44, 44, 44, 44, 45, 45, 45, 46, 46, 46, 46, 47, 47, 47, 47, 48, 48, 49, 49, 49, 49, 49, 50, 50, 51, 51, 51, 51, 52, 52, 53, 53, 53, 54, 54, 55, 55, 55, 57, 58, 58, 59, 60, 60, 60, 60, 60, 60, 60, 61, 62, 62, 63, 63, 63, 63, 64, 66, 66, 66, 66, 67, 68, 68, 68, 68, 70, 70, 70, 70, 70, 70, 71, 71, 72, 72, 72, 72, 73, 74, 75, 76, 77, 77, 77, 78, 79, 79, 80, 80, 81, 81, 81, 82, 82, 82, 82, 82, 83, 83, 83, 83, 83, 83, 84, 84, 85, 85, 86, 87, 88, 88, 90, 90, 90, 91, 91, 91, 92, 92, 93, 93, 93, 93, 94, 95, 95, 95, 95, 95, 96, 96, 96, 96, 96, 97, 98, 98, 98, 98, 99, 99, 99, 101, 102, 103, 104, 104, 105, 105, 105, 106, 107, 107, 108, 108, 108, 108, 109, 109, 109, 109, 109, 109, 109, 110, 110, 111, 112, 113, 113, 113, 114, 115, 115, 115, 116, 116, 117, 117, 117, 118, 118, 118, 118, 118, 119, 119, 119, 119, 120, 121, 121, 121, 122, 123, 125, 127, 127, 128, 128, 128, 129, 130, 130, 131, 131, 132, 133, 134, 136, 137, 137, 139, 141, 143, 144, 145, 145, 146, 151, 152, 152, 153, 155, 157, 160, 160, 162, 162, 163, 163, 167, 167, 169, 171, 176, 179, 184, 192, 193, 201, 207, 214, 216, 216, 222, 240, 242]\n",
      "87.03666666666666\n"
     ]
    }
   ],
   "source": [
    "if __name__ == '__main__':\n",
    "    n = 5000\n",
    "    m = 300\n",
    "    print(partA(5000))\n",
    "    result = partB(m, n)\n",
    "    # run part b\n",
    "    x, y = density(result)\n",
    "    plot(x, y)\n",
    "    t = time.clock()\n",
    "    result = partB(m, n)\n",
    "    print(time.clock()-t)\n",
    "    \n",
    "    #run part c\n",
    "    result = partB(m, n)\n",
    "    print(result)\n",
    "    print(sum(result)/len(result))\n",
    "    # the empirical expected number is 89.3\n",
    "       "
   ]
  },
  {
   "cell_type": "code",
   "execution_count": 30,
   "metadata": {},
   "outputs": [
    {
     "data": {
      "image/png": "[encoded data removed]",
      "text/plain": [
       "<matplotlib.figure.Figure at 0x1c846b16748>"
      ]
     },
     "metadata": {},
     "output_type": "display_data"
    }
   ],
   "source": [
    "    x, y1 = QD(300)\n",
    "#     write('300.txt', x, y)\n",
    "\n",
    "#     x, y2 = QD(5000)\n",
    "#     write('5000.txt', x, y)\n",
    "    \n",
    "#     x, y3 = QD(7000)\n",
    "#     write('7000.txt', x, y)\n",
    "\n",
    "#     x, y4 = QD(10000)\n",
    "#     write('10000.txt', x, y)\n",
    "\n",
    "#     x, y = read('10000.txt')\n",
    "    plt.plot(x, y1, 'r')\n",
    "#     plt.plot(x, y2, 'b')\n",
    "#     plt.plot(x, y3, 'g')\n",
    "#     plt.plot(x, y4, 'y')\n",
    "    plt.show()"
   ]
  },
  {
   "cell_type": "code",
   "execution_count": null,
   "metadata": {
    "collapsed": true
   },
   "outputs": [],
   "source": []
  }
 ],
 "metadata": {
  "kernelspec": {
   "display_name": "Python 3",
   "language": "python",
   "name": "python3"
  },
  "language_info": {
   "codemirror_mode": {
    "name": "ipython",
    "version": 3
   },
   "file_extension": ".py",
   "mimetype": "text/x-python",
   "name": "python",
   "nbconvert_exporter": "python",
   "pygments_lexer": "ipython3",
   "version": "3.6.1"
  }
 },
 "nbformat": 4,
 "nbformat_minor": 2
}
