{
 "cells": [
  {
   "cell_type": "code",
   "execution_count": 13,
   "metadata": {
    "collapsed": true
   },
   "outputs": [],
   "source": [
    "import numpy as np\n",
    "from numpy import random\n",
    "import pandas as pd\n",
    "import matplotlib.pyplot as plt\n",
    "import time\n",
    "#random.seed(seed = 57)\n",
    "from tqdm import tqdm_notebook as tqdm\n",
    "start_time = time.time()\n",
    "n = 5000"
   ]
  },
  {
   "cell_type": "code",
   "execution_count": 9,
   "metadata": {},
   "outputs": [
    {
     "name": "stdout",
     "output_type": "stream",
     "text": [
      "Q1A. This took 148 random trials.\n",
      "Wall time: 0 ns\n"
     ]
    }
   ],
   "source": [
    "%%time \n",
    "\n",
    "def getK(n):\n",
    "    seen = set()\n",
    "    \n",
    "    while(True):\n",
    "        new_num = np.random.randint(0, n)\n",
    "        \n",
    "        if new_num in seen:\n",
    "            return len(seen)\n",
    "        else:\n",
    "            seen.add(new_num)\n",
    "    \n",
    "k = getK(n)\n",
    "\n",
    "print(\"Q1A. This took {} random trials.\".format(k))"
   ]
  },
  {
   "cell_type": "code",
   "execution_count": 11,
   "metadata": {},
   "outputs": [
    {
     "data": {
      "image/png": "[encoded data removed]",
      "text/plain": [
       "<matplotlib.figure.Figure at 0x222be79b908>"
      ]
     },
     "metadata": {},
     "output_type": "display_data"
    },
    {
     "name": "stdout",
     "output_type": "stream",
     "text": [
      "Wall time: 185 ms\n"
     ]
    }
   ],
   "source": [
    "%%time\n",
    "\n",
    "m = 300\n",
    "\n",
    "count = []\n",
    "count_trials = []\n",
    "cumulative = [0 for i in range(m)]\n",
    "fraction = [0 for i in range(m)]\n",
    "\n",
    "for i in range(m):\n",
    "    k = getK(n)\n",
    "    count_trials.append(k)\n",
    "    count.append(1)\n",
    "single_end_time = time.time()\n",
    "\n",
    "d = {'k': count_trials, 'count': count, \n",
    "     'cumulative': cumulative, 'Fraction': fraction}\n",
    "df = pd.DataFrame(data = d)\n",
    "df2 = df.sort_values(by = ['k'])\n",
    "#df.groupby(by = ['k'])\n",
    "np_df = df2.as_matrix()\n",
    "np_df = np_df.astype(float)\n",
    "\n",
    "for ind, rows in enumerate(np_df):\n",
    "    if ind != 0:\n",
    "        rows[2] = rows[1] + np_df[ind-1][2]\n",
    "        rows[0] = float(rows[2]) / float(m)\n",
    "    else:\n",
    "        rows[2] = 1\n",
    "        rows[0] = float(rows[2]) / float(m)\n",
    "\n",
    "x = np_df[:,-1] #k\n",
    "y = np_df[:, 0] #Cumulative Distribution\n",
    "\n",
    "plt.plot(x, y)\n",
    "plt.show()"
   ]
  },
  {
   "cell_type": "code",
   "execution_count": 12,
   "metadata": {},
   "outputs": [
    {
     "name": "stdout",
     "output_type": "stream",
     "text": [
      "The expected number of k random trials in order to have a collision is 88.59333333333333\n"
     ]
    }
   ],
   "source": [
    "ksum = df2.sum()['k']\n",
    "estimate = ksum /float(m)\n",
    "    \n",
    "print(\n",
    "    'The expected number of k random trials in order to have a collision is {}'\n",
    "      .format(estimate))"
   ]
  },
  {
   "cell_type": "code",
   "execution_count": 9,
   "metadata": {},
   "outputs": [
    {
     "name": "stdout",
     "output_type": "stream",
     "text": [
      "Time taken for m=400 trials is 2.641165018081665 seconds\n",
      "m= 300\n",
      "This process is here for n =  4000\n",
      "Time Taken:  0.17353534698486328\n",
      "This process is here for n =  10000\n",
      "Time Taken:  0.232377290725708\n",
      "This process is here for n =  20000\n",
      "Time Taken:  0.40891027450561523\n",
      "This process is here for n =  50000\n",
      "Time Taken:  0.9404850006103516\n",
      "This process is here for n =  100000\n",
      "Time Taken:  1.591454267501831\n",
      "This process is here for n =  200000\n",
      "Time Taken:  4.446597576141357\n",
      "This process is here for n =  300000\n",
      "Time Taken:  8.268010139465332\n",
      "This process is here for n =  400000\n",
      "Time Taken:  10.771871328353882\n",
      "This process is here for n =  500000\n",
      "Time Taken:  17.788071632385254\n",
      "This process is here for n =  600000\n",
      "Time Taken:  21.55252981185913\n",
      "This process is here for n =  700000\n",
      "Time Taken:  21.98921513557434\n",
      "This process is here for n =  800000\n",
      "Time Taken:  24.042145013809204\n",
      "This process is here for n =  900000\n",
      "Time Taken:  28.307025909423828\n",
      "[0.17353534698486328, 0.232377290725708, 0.40891027450561523, 0.9404850006103516, 1.591454267501831, 4.446597576141357, 8.268010139465332, 10.771871328353882, 17.788071632385254, 21.55252981185913, 21.98921513557434, 24.042145013809204, 28.307025909423828]\n",
      "m= 1000\n",
      "This process is here for n =  4000\n",
      "Time Taken:  0.47074198722839355\n",
      "This process is here for n =  10000\n",
      "Time Taken:  0.8098330497741699\n",
      "This process is here for n =  20000\n",
      "Time Taken:  1.4461944103240967\n",
      "This process is here for n =  50000\n",
      "Time Taken:  3.0862770080566406\n",
      "This process is here for n =  100000\n",
      "Time Taken:  5.5586442947387695\n",
      "This process is here for n =  200000\n",
      "Time Taken:  16.592829942703247\n",
      "This process is here for n =  300000\n",
      "Time Taken:  28.569945335388184\n",
      "This process is here for n =  400000\n",
      "Time Taken:  42.9395694732666\n",
      "This process is here for n =  500000\n",
      "Time Taken:  71.13653373718262\n",
      "This process is here for n =  600000\n",
      "Time Taken:  92.17394781112671\n",
      "This process is here for n =  700000\n",
      "Time Taken:  103.38715076446533\n",
      "This process is here for n =  800000\n",
      "Time Taken:  115.42331171035767\n",
      "This process is here for n =  900000\n",
      "Time Taken:  133.57695984840393\n",
      "[0.47074198722839355, 0.8098330497741699, 1.4461944103240967, 3.0862770080566406, 5.5586442947387695, 16.592829942703247, 28.569945335388184, 42.9395694732666, 71.13653373718262, 92.17394781112671, 103.38715076446533, 115.42331171035767, 133.57695984840393]\n",
      "m= 2500\n",
      "This process is here for n =  4000\n",
      "Time Taken:  1.6961495876312256\n",
      "This process is here for n =  10000\n",
      "Time Taken:  3.262397527694702\n",
      "This process is here for n =  20000\n",
      "Time Taken:  5.390531539916992\n",
      "This process is here for n =  50000\n",
      "Time Taken:  12.182114601135254\n",
      "This process is here for n =  100000\n",
      "Time Taken:  20.391586542129517\n",
      "This process is here for n =  200000\n",
      "Time Taken:  56.64385366439819\n",
      "This process is here for n =  300000\n",
      "Time Taken:  97.0976734161377\n",
      "This process is here for n =  400000\n",
      "Time Taken:  135.28906965255737\n",
      "This process is here for n =  500000\n",
      "Time Taken:  186.6399450302124\n",
      "This process is here for n =  600000\n",
      "Time Taken:  199.67371368408203\n",
      "This process is here for n =  700000\n",
      "Time Taken:  252.90528392791748\n",
      "This process is here for n =  800000\n",
      "Time Taken:  307.9134793281555\n",
      "This process is here for n =  900000\n",
      "Time Taken:  314.01519680023193\n",
      "[1.6961495876312256, 3.262397527694702, 5.390531539916992, 12.182114601135254, 20.391586542129517, 56.64385366439819, 97.0976734161377, 135.28906965255737, 186.6399450302124, 199.67371368408203, 252.90528392791748, 307.9134793281555, 314.01519680023193]\n",
      "m= 5000\n",
      "This process is here for n =  4000\n",
      "Time Taken:  3.0037927627563477\n",
      "This process is here for n =  10000\n",
      "Time Taken:  5.837084770202637\n",
      "This process is here for n =  20000\n",
      "Time Taken:  9.603432178497314\n",
      "This process is here for n =  50000\n",
      "Time Taken:  20.825449466705322\n",
      "This process is here for n =  100000\n",
      "Time Taken:  39.593454360961914\n",
      "This process is here for n =  200000\n",
      "Time Taken:  110.5260910987854\n",
      "This process is here for n =  300000\n",
      "Time Taken:  194.21785807609558\n",
      "This process is here for n =  400000\n",
      "Time Taken:  286.42155408859253\n",
      "This process is here for n =  500000\n",
      "Time Taken:  393.29409646987915\n",
      "This process is here for n =  600000\n",
      "Time Taken:  465.40724539756775\n",
      "This process is here for n =  700000\n",
      "Time Taken:  527.0668580532074\n",
      "This process is here for n =  800000\n",
      "Time Taken:  558.6532747745514\n",
      "This process is here for n =  900000\n",
      "Time Taken:  660.7360587120056\n",
      "[3.0037927627563477, 5.837084770202637, 9.603432178497314, 20.825449466705322, 39.593454360961914, 110.5260910987854, 194.21785807609558, 286.42155408859253, 393.29409646987915, 465.40724539756775, 527.0668580532074, 558.6532747745514, 660.7360587120056]\n",
      "m= 10000\n",
      "This process is here for n =  4000\n",
      "Time Taken:  5.933945894241333\n",
      "This process is here for n =  10000\n",
      "Time Taken:  12.134406328201294\n",
      "This process is here for n =  20000\n",
      "Time Taken:  19.794876098632812\n",
      "This process is here for n =  50000\n",
      "Time Taken:  38.026756048202515\n",
      "This process is here for n =  100000\n",
      "Time Taken:  78.44744324684143\n",
      "This process is here for n =  200000\n",
      "Time Taken:  221.54442191123962\n",
      "This process is here for n =  300000\n",
      "Time Taken:  392.2232232093811\n",
      "This process is here for n =  400000\n",
      "Time Taken:  540.614679813385\n",
      "This process is here for n =  500000\n",
      "Time Taken:  767.8979458808899\n",
      "This process is here for n =  600000\n",
      "Time Taken:  910.9257161617279\n",
      "This process is here for n =  700000\n",
      "Time Taken:  1497.5917708873749\n",
      "This process is here for n =  800000\n",
      "Time Taken:  2686.4612276554108\n",
      "This process is here for n =  900000\n",
      "Time Taken:  770.540465593338\n",
      "[5.933945894241333, 12.134406328201294, 19.794876098632812, 38.026756048202515, 78.44744324684143, 221.54442191123962, 392.2232232093811, 540.614679813385, 767.8979458808899, 910.9257161617279, 1497.5917708873749, 2686.4612276554108, 770.540465593338]\n"
     ]
    },
    {
     "data": {
      "image/png": "[encoded data removed]",
      "text/plain": [
       "<matplotlib.figure.Figure at 0x1ce731fc278>"
      ]
     },
     "metadata": {},
     "output_type": "display_data"
    }
   ],
   "source": [
    "first_time = single_end_time-start_time\n",
    "print(\"Time taken for m=400 trials is {} seconds\".format(first_time))\n",
    "\n",
    "N = [4000,10000, 20000, 50000]\n",
    "i = 100000\n",
    "while i < 1000000:\n",
    "    N.append(i)\n",
    "    i += 100000\n",
    "\n",
    "\n",
    "M = [300, 1000, 2500, 5000, 10000]\n",
    "def getTime(N, m):\n",
    "    times = []\n",
    "    for n in N:\n",
    "        print(\"This process is here for n = \", n)\n",
    "        start_time = time.time()\n",
    "        for i in range(m):\n",
    "            k = getK(n)\n",
    "        time_taken = time.time() - start_time        \n",
    "        print(\"Time Taken: \", time_taken)\n",
    "        times.append(time_taken)\n",
    "    return times\n",
    "\n",
    "delay = []\n",
    "    \n",
    "for m in M:\n",
    "    d1 = getTime(N,m)\n",
    "    delay.append(d1)\n",
    "\n",
    "plt.plot(N,  delay[0])\n",
    "plt.plot(N,  delay[1])\n",
    "plt.plot(N,  delay[2])\n",
    "plt.plot(N,  delay[3])\n",
    "plt.plot(N,  delay[4])\n",
    "plt.legend(['m = 300','m = 1000', 'm = 2500', 'm = 5000','m = 10000'], loc = 'upper left')\n",
    "\n",
    "plt.show()"
   ]
  },
  {
   "cell_type": "code",
   "execution_count": null,
   "metadata": {
    "collapsed": true
   },
   "outputs": [],
   "source": []
  }
 ],
 "metadata": {
  "kernelspec": {
   "display_name": "Python 3",
   "language": "python",
   "name": "python3"
  },
  "language_info": {
   "codemirror_mode": {
    "name": "ipython",
    "version": 3
   },
   "file_extension": ".py",
   "mimetype": "text/x-python",
   "name": "python",
   "nbconvert_exporter": "python",
   "pygments_lexer": "ipython3",
   "version": "3.6.1"
  }
 },
 "nbformat": 4,
 "nbformat_minor": 2
}
