{
 "cells": [
  {
   "cell_type": "code",
   "execution_count": 2,
   "metadata": {
    "collapsed": true
   },
   "outputs": [],
   "source": [
    "import random\n",
    "import time\n",
    "import matplotlib.pyplot as plt"
   ]
  },
  {
   "cell_type": "code",
   "execution_count": 10,
   "metadata": {
    "collapsed": true
   },
   "outputs": [],
   "source": [
    "def QA(n):\n",
    "    count = n\n",
    "    x = [random.randint(1, n) for _ in range(n)]\n",
    "    s = set(x)\n",
    "    while True:\n",
    "        count += 1\n",
    "        x = random.randint(1, n)\n",
    "        s.add(x)\n",
    "        if len(s) == n:\n",
    "            return count"
   ]
  },
  {
   "cell_type": "code",
   "execution_count": 11,
   "metadata": {
    "collapsed": true
   },
   "outputs": [],
   "source": [
    "def QB(m, n):\n",
    "    results = [QA(n) for i in range(m)]\n",
    "    # results = sorted(results)\n",
    "    return results"
   ]
  },
  {
   "cell_type": "code",
   "execution_count": 17,
   "metadata": {
    "collapsed": true
   },
   "outputs": [],
   "source": [
    "def density(result):\n",
    "    \"\"\" Calculate the cumulative density.\n",
    "    \"\"\"\n",
    "    unique = list(set(result))\n",
    "    unique = sorted(unique)\n",
    "    y = []\n",
    "    for x in unique:\n",
    "        count = len([i for i in result if i <= x])\n",
    "        y.append(count/len(result))\n",
    "    return unique, y\n",
    "\n",
    "\n",
    "def plot(x, y):\n",
    "    plt.plot(x, y)\n",
    "    plt.xlabel('Number of Trials', fontsize=10)\n",
    "    plt.ylabel('Probability of successful experiments', fontsize=10)\n",
    "    plt.show()"
   ]
  },
  {
   "cell_type": "code",
   "execution_count": 20,
   "metadata": {},
   "outputs": [
    {
     "name": "stdout",
     "output_type": "stream",
     "text": [
      "Empirical estimate of k is 1892\n"
     ]
    },
    {
     "data": {
      "image/png": "[encoded data removed]",
      "text/plain": [
       "<matplotlib.figure.Figure at 0x26d425c2048>"
      ]
     },
     "metadata": {},
     "output_type": "display_data"
    },
    {
     "name": "stdout",
     "output_type": "stream",
     "text": [
      "11.948365234122548\n"
     ]
    }
   ],
   "source": [
    "if __name__ == '__main__':\n",
    "    n = 300\n",
    "    m = 3000\n",
    "#     print(QA(n))\n",
    "# 1996 trials\n",
    "    # part b start\n",
    "    result = QB(m, n)\n",
    "    print(\"Empirical estimate of k is %d\" % (sum(result)/len(result)))\n",
    "\n",
    "    x, y = density(result)\n",
    "    plot(x, y)\n",
    "\n",
    "    t = time.clock()\n",
    "    QB(m, n)\n",
    "    print(time.clock()-t)\n",
    "    "
   ]
  },
  {
   "cell_type": "code",
   "execution_count": null,
   "metadata": {
    "collapsed": true
   },
   "outputs": [],
   "source": []
  }
 ],
 "metadata": {
  "kernelspec": {
   "display_name": "Python 3",
   "language": "python",
   "name": "python3"
  },
  "language_info": {
   "codemirror_mode": {
    "name": "ipython",
    "version": 3
   },
   "file_extension": ".py",
   "mimetype": "text/x-python",
   "name": "python",
   "nbconvert_exporter": "python",
   "pygments_lexer": "ipython3",
   "version": "3.6.1"
  }
 },
 "nbformat": 4,
 "nbformat_minor": 2
}
