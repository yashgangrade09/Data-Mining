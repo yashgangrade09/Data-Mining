{
 "cells": [
  {
   "cell_type": "code",
   "execution_count": 2,
   "metadata": {
    "collapsed": true
   },
   "outputs": [],
   "source": [
    "import numpy as np\n",
    "from numpy import random\n",
    "import pandas as pd\n",
    "import matplotlib.pyplot as plt\n",
    "import time\n",
    "#random.seed(seed = 57)\n",
    "from tqdm import tqdm_notebook as tqdm\n",
    "start_time = time.time()\n",
    "n = 5000"
   ]
  },
  {
   "cell_type": "code",
   "execution_count": 13,
   "metadata": {},
   "outputs": [
    {
     "name": "stdout",
     "output_type": "stream",
     "text": [
      "Q1A. This took 72 random trials.\n",
      "Wall time: 9.06 ms\n"
     ]
    }
   ],
   "source": [
    "%%time \n",
    "\n",
    "def getK(n):\n",
    "    seen = set()\n",
    "    \n",
    "    while(True):\n",
    "        new_num = np.random.randint(0, n)\n",
    "        \n",
    "        if new_num in seen:\n",
    "            return len(seen)\n",
    "        else:\n",
    "            seen.add(new_num)\n",
    "    \n",
    "k = getK(n)\n",
    "\n",
    "print(\"Q1A. This took {} random trials.\".format(k))"
   ]
  },
  {
   "cell_type": "code",
   "execution_count": 11,
   "metadata": {},
   "outputs": [
    {
     "data": {
      "image/png": "[encoded data removed]",
      "text/plain": [
       "<matplotlib.figure.Figure at 0x222be79b908>"
      ]
     },
     "metadata": {},
     "output_type": "display_data"
    },
    {
     "name": "stdout",
     "output_type": "stream",
     "text": [
      "Wall time: 185 ms\n"
     ]
    }
   ],
   "source": [
    "%%time\n",
    "\n",
    "m = 300\n",
    "\n",
    "count = []\n",
    "count_trials = []\n",
    "cumulative = [0 for i in range(m)]\n",
    "fraction = [0 for i in range(m)]\n",
    "\n",
    "for i in range(m):\n",
    "    k = getK(n)\n",
    "    count_trials.append(k)\n",
    "    count.append(1)\n",
    "single_end_time = time.time()\n",
    "\n",
    "d = {'k': count_trials, 'count': count, \n",
    "     'cumulative': cumulative, 'Fraction': fraction}\n",
    "df = pd.DataFrame(data = d)\n",
    "df2 = df.sort_values(by = ['k'])\n",
    "#df.groupby(by = ['k'])\n",
    "np_df = df2.as_matrix()\n",
    "np_df = np_df.astype(float)\n",
    "\n",
    "for ind, rows in enumerate(np_df):\n",
    "    if ind != 0:\n",
    "        rows[2] = rows[1] + np_df[ind-1][2]\n",
    "        rows[0] = float(rows[2]) / float(m)\n",
    "    else:\n",
    "        rows[2] = 1\n",
    "        rows[0] = float(rows[2]) / float(m)\n",
    "\n",
    "x = np_df[:,-1] #k\n",
    "y = np_df[:, 0] #Cumulative Distribution\n",
    "\n",
    "plt.plot(x, y)\n",
    "plt.show()"
   ]
  },
  {
   "cell_type": "code",
   "execution_count": 12,
   "metadata": {},
   "outputs": [
    {
     "name": "stdout",
     "output_type": "stream",
     "text": [
      "The expected number of k random trials in order to have a collision is 88.59333333333333\n"
     ]
    }
   ],
   "source": [
    "ksum = df2.sum()['k']\n",
    "estimate = ksum /float(m)\n",
    "    \n",
    "print(\n",
    "    'The expected number of k random trials in order to have a collision is {}'\n",
    "      .format(estimate))"
   ]
  },
  {
   "cell_type": "code",
   "execution_count": 17,
   "metadata": {},
   "outputs": [
    {
     "name": "stdout",
     "output_type": "stream",
     "text": [
      "Time taken for m=400 trials is -177.02657413482666 seconds\n"
     ]
    },
    {
     "data": {
      "application/vnd.jupyter.widget-view+json": {
       "model_id": "43f72407a1b6462cbe837233c8e4e025"
      }
     },
     "metadata": {},
     "output_type": "display_data"
    },
    {
     "data": {
      "application/vnd.jupyter.widget-view+json": {
       "model_id": "45d4149da5f24f6cad6e86459e521541"
      }
     },
     "metadata": {},
     "output_type": "display_data"
    },
    {
     "data": {
      "application/vnd.jupyter.widget-view+json": {
       "model_id": "67ed58c6faae441ea81ec64e6d1a5778"
      }
     },
     "metadata": {},
     "output_type": "display_data"
    },
    {
     "data": {
      "application/vnd.jupyter.widget-view+json": {
       "model_id": "63ef792fbc0e4df39b13a59dbd658619"
      }
     },
     "metadata": {},
     "output_type": "display_data"
    },
    {
     "data": {
      "application/vnd.jupyter.widget-view+json": {
       "model_id": "85d4436e912b415ca64175731c2eab96"
      }
     },
     "metadata": {},
     "output_type": "display_data"
    },
    {
     "data": {
      "application/vnd.jupyter.widget-view+json": {
       "model_id": "619b153dbdd545f995979f6afbc0949b"
      }
     },
     "metadata": {},
     "output_type": "display_data"
    }
   ],
   "source": [
    "first_time = single_end_time-start_time\n",
    "print(\"Time taken for m=400 trials is {} seconds\".format(first_time))\n",
    "\n",
    "N = [4000,10000, 20000, 50000]\n",
    "i = 100000\n",
    "while i < 1000000:\n",
    "    N.append(i)\n",
    "    i += 100000\n",
    "\n",
    "\n",
    "M = [300, 1000, 2500, 5000, 10000]\n",
    "def getTime(N, m):\n",
    "    times = []\n",
    "    for n in tqdm(N):\n",
    "#         print(\"This process is here for n = \", n)\n",
    "        start_time = time.time()\n",
    "        for i in range(m):\n",
    "            k = getK(n)\n",
    "        time_taken = time.time() - start_time        \n",
    "#         print(\"Time Taken: \", time_taken)\n",
    "        times.append(time_taken)\n",
    "    return times\n",
    "\n",
    "delay = []\n",
    "    \n",
    "for m in tqdm(M):\n",
    "    d1 = getTime(N,m)\n",
    "    delay.append(d1)"
   ]
  },
  {
   "cell_type": "code",
   "execution_count": 20,
   "metadata": {},
   "outputs": [
    {
     "data": {
      "image/png": "[encoded data removed]",
      "text/plain": [
       "<matplotlib.figure.Figure at 0x222c8051ba8>"
      ]
     },
     "metadata": {},
     "output_type": "display_data"
    }
   ],
   "source": [
    "plt.plot(N,  delay[0], label='m={}'.format(M[0]))\n",
    "plt.plot(N,  delay[1], label='m={}'.format(M[1]))\n",
    "plt.plot(N,  delay[2], label='m={}'.format(M[2]))\n",
    "plt.plot(N,  delay[3], label='m={}'.format(M[3]))\n",
    "plt.plot(N,  delay[4], label='m={}'.format(M[4]))\n",
    "plt.xticks = N\n",
    "plt.legend()\n",
    "plt.grid()\n",
    "plt.ylabel(\"Run time\", fontsize = 10)\n",
    "plt.xlabel(\"n\", fontsize = 10)\n",
    "\n",
    "plt.show()"
   ]
  },
  {
   "cell_type": "code",
   "execution_count": null,
   "metadata": {
    "collapsed": true
   },
   "outputs": [],
   "source": []
  }
 ],
 "metadata": {
  "kernelspec": {
   "display_name": "Python 3",
   "language": "python",
   "name": "python3"
  },
  "language_info": {
   "codemirror_mode": {
    "name": "ipython",
    "version": 3
   },
   "file_extension": ".py",
   "mimetype": "text/x-python",
   "name": "python",
   "nbconvert_exporter": "python",
   "pygments_lexer": "ipython3",
   "version": "3.6.1"
  }
 },
 "nbformat": 4,
 "nbformat_minor": 2
}
